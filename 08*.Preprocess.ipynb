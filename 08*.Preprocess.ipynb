{
 "cells": [
  {
   "cell_type": "markdown",
   "id": "522c8bf2",
   "metadata": {},
   "source": [
    "# Подготовка пар предложений для [машинного перевода](08.Machine-Translation.LSTM-Seq2Seq-Attention.ipynb)"
   ]
  },
  {
   "cell_type": "markdown",
   "id": "5c823e14",
   "metadata": {},
   "source": [
    "Русские и английские предложения взяты из раздела `Sentences` на сайте [tatoeba.org](https://tatoeba.org/en/downloads).\n",
    "\n",
    "Также из раздела `Links` скачан файл, содержащий ссылки между предложениями.\n",
    "\n",
    "Эти файлы я загрузил в свой Google Disk.\n",
    "\n",
    "Предложения нужно подготовить:\n",
    "- убрать дубликаты;\n",
    "- минимальная длина предложения 3 токена;\n",
    "- максимальная длина предложения 40 токенов;\n",
    "- отобрать только 100k пар;\n",
    "- Привести к формату `предложение_на_русском<seq>перевод_на_английском`. Каждая пара с новой строки;\n",
    "- Сохранить в файл `rus-eng.txt`"
   ]
  },
  {
   "cell_type": "code",
   "execution_count": 1,
   "id": "5088ccf6",
   "metadata": {},
   "outputs": [],
   "source": [
    "import pandas as pd\n",
    "import tokenizers\n",
    "from tokenizers import pre_tokenizers"
   ]
  },
  {
   "cell_type": "markdown",
   "id": "208a5a05",
   "metadata": {},
   "source": [
    "### Скачивание и разархивация\n",
    "\n",
    "**Расскоментировать по необходимости**"
   ]
  },
  {
   "cell_type": "code",
   "execution_count": 2,
   "id": "0afe1e95",
   "metadata": {},
   "outputs": [],
   "source": [
    "# ru\n",
    "# !gdown -c 1rtfpPatXiiN3lEfKtmxysvaQNlwiPadh -O rus_sentences.tsv.bz2"
   ]
  },
  {
   "cell_type": "code",
   "execution_count": 3,
   "id": "b1946b9b",
   "metadata": {},
   "outputs": [],
   "source": [
    "# en\n",
    "# !gdown -c 1JRiXy0-AaaK-lYmeNmvXjVzDOXwbvuvk -O eng_sentences.tsv.bz2"
   ]
  },
  {
   "cell_type": "code",
   "execution_count": 4,
   "id": "196e731c",
   "metadata": {},
   "outputs": [],
   "source": [
    "# links\n",
    "# !gdown -c 1Z6KqjjAg4EACmoHSjL97DLE9pVzDR3Tz -O links.tar.bz2"
   ]
  },
  {
   "cell_type": "code",
   "execution_count": 5,
   "id": "adf5653f",
   "metadata": {},
   "outputs": [],
   "source": [
    "# !bunzip2 -k rus_sentences.tsv.bz2"
   ]
  },
  {
   "cell_type": "code",
   "execution_count": 6,
   "id": "54745e49",
   "metadata": {},
   "outputs": [],
   "source": [
    "# !bunzip2 -k eng_sentences.tsv.bz2"
   ]
  },
  {
   "cell_type": "code",
   "execution_count": 7,
   "id": "2be82e71",
   "metadata": {},
   "outputs": [],
   "source": [
    "# !tar -xvjf links.tar.bz2"
   ]
  },
  {
   "cell_type": "markdown",
   "id": "96ad31e8",
   "metadata": {},
   "source": [
    "## Merge\n",
    "\n",
    "Создание пар русский-английский в pandas."
   ]
  },
  {
   "cell_type": "code",
   "execution_count": 8,
   "id": "2a71d6c8",
   "metadata": {},
   "outputs": [],
   "source": [
    "rus_sentences = pd.read_csv(\n",
    "    \"rus_sentences.tsv\",\n",
    "    sep=\"\\t\",\n",
    "    encoding=\"utf-8\",\n",
    "    names=[\"id\", \"lang\", \"sentence\"],\n",
    ")\n"
   ]
  },
  {
   "cell_type": "code",
   "execution_count": 9,
   "id": "7f39d262",
   "metadata": {},
   "outputs": [],
   "source": [
    "eng_sentences = pd.read_csv(\n",
    "    \"eng_sentences.tsv\",\n",
    "    sep=\"\\t\",\n",
    "    encoding=\"utf-8\",\n",
    "    names=[\"id\", \"lang\", \"sentence\"],\n",
    ")\n"
   ]
  },
  {
   "cell_type": "code",
   "execution_count": 10,
   "id": "d36a2a7d",
   "metadata": {},
   "outputs": [],
   "source": [
    "links = pd.read_csv(\n",
    "    \"links.csv\", sep=\"\\t\", encoding=\"utf-8\", names=[\"lang1\", \"lang2\"]\n",
    ")"
   ]
  },
  {
   "cell_type": "code",
   "execution_count": 11,
   "id": "df22a096",
   "metadata": {},
   "outputs": [
    {
     "data": {
      "text/html": [
       "<div>\n",
       "<style scoped>\n",
       "    .dataframe tbody tr th:only-of-type {\n",
       "        vertical-align: middle;\n",
       "    }\n",
       "\n",
       "    .dataframe tbody tr th {\n",
       "        vertical-align: top;\n",
       "    }\n",
       "\n",
       "    .dataframe thead th {\n",
       "        text-align: right;\n",
       "    }\n",
       "</style>\n",
       "<table border=\"1\" class=\"dataframe\">\n",
       "  <thead>\n",
       "    <tr style=\"text-align: right;\">\n",
       "      <th></th>\n",
       "      <th>id</th>\n",
       "      <th>lang</th>\n",
       "      <th>sentence</th>\n",
       "    </tr>\n",
       "  </thead>\n",
       "  <tbody>\n",
       "    <tr>\n",
       "      <th>0</th>\n",
       "      <td>243</td>\n",
       "      <td>rus</td>\n",
       "      <td>Один раз в жизни я делаю хорошее дело... И оно...</td>\n",
       "    </tr>\n",
       "    <tr>\n",
       "      <th>1</th>\n",
       "      <td>5409</td>\n",
       "      <td>rus</td>\n",
       "      <td>Давайте что-нибудь попробуем!</td>\n",
       "    </tr>\n",
       "    <tr>\n",
       "      <th>2</th>\n",
       "      <td>5410</td>\n",
       "      <td>rus</td>\n",
       "      <td>Мне пора идти спать.</td>\n",
       "    </tr>\n",
       "    <tr>\n",
       "      <th>3</th>\n",
       "      <td>5411</td>\n",
       "      <td>rus</td>\n",
       "      <td>Что ты делаешь?</td>\n",
       "    </tr>\n",
       "    <tr>\n",
       "      <th>4</th>\n",
       "      <td>5412</td>\n",
       "      <td>rus</td>\n",
       "      <td>Что это?</td>\n",
       "    </tr>\n",
       "  </tbody>\n",
       "</table>\n",
       "</div>"
      ],
      "text/plain": [
       "     id lang                                           sentence\n",
       "0   243  rus  Один раз в жизни я делаю хорошее дело... И оно...\n",
       "1  5409  rus                      Давайте что-нибудь попробуем!\n",
       "2  5410  rus                               Мне пора идти спать.\n",
       "3  5411  rus                                    Что ты делаешь?\n",
       "4  5412  rus                                           Что это?"
      ]
     },
     "execution_count": 11,
     "metadata": {},
     "output_type": "execute_result"
    }
   ],
   "source": [
    "rus_sentences.head()"
   ]
  },
  {
   "cell_type": "code",
   "execution_count": 12,
   "id": "13defae7",
   "metadata": {},
   "outputs": [
    {
     "data": {
      "text/html": [
       "<div>\n",
       "<style scoped>\n",
       "    .dataframe tbody tr th:only-of-type {\n",
       "        vertical-align: middle;\n",
       "    }\n",
       "\n",
       "    .dataframe tbody tr th {\n",
       "        vertical-align: top;\n",
       "    }\n",
       "\n",
       "    .dataframe thead th {\n",
       "        text-align: right;\n",
       "    }\n",
       "</style>\n",
       "<table border=\"1\" class=\"dataframe\">\n",
       "  <thead>\n",
       "    <tr style=\"text-align: right;\">\n",
       "      <th></th>\n",
       "      <th>id</th>\n",
       "      <th>lang</th>\n",
       "      <th>sentence</th>\n",
       "    </tr>\n",
       "  </thead>\n",
       "  <tbody>\n",
       "    <tr>\n",
       "      <th>0</th>\n",
       "      <td>1276</td>\n",
       "      <td>eng</td>\n",
       "      <td>Let's try something.</td>\n",
       "    </tr>\n",
       "    <tr>\n",
       "      <th>1</th>\n",
       "      <td>1277</td>\n",
       "      <td>eng</td>\n",
       "      <td>I have to go to sleep.</td>\n",
       "    </tr>\n",
       "    <tr>\n",
       "      <th>2</th>\n",
       "      <td>1280</td>\n",
       "      <td>eng</td>\n",
       "      <td>Today is June 18th and it is Muiriel's birthday!</td>\n",
       "    </tr>\n",
       "    <tr>\n",
       "      <th>3</th>\n",
       "      <td>1282</td>\n",
       "      <td>eng</td>\n",
       "      <td>Muiriel is 20 now.</td>\n",
       "    </tr>\n",
       "    <tr>\n",
       "      <th>4</th>\n",
       "      <td>1283</td>\n",
       "      <td>eng</td>\n",
       "      <td>The password is \"Muiriel\".</td>\n",
       "    </tr>\n",
       "  </tbody>\n",
       "</table>\n",
       "</div>"
      ],
      "text/plain": [
       "     id lang                                          sentence\n",
       "0  1276  eng                              Let's try something.\n",
       "1  1277  eng                            I have to go to sleep.\n",
       "2  1280  eng  Today is June 18th and it is Muiriel's birthday!\n",
       "3  1282  eng                                Muiriel is 20 now.\n",
       "4  1283  eng                        The password is \"Muiriel\"."
      ]
     },
     "execution_count": 12,
     "metadata": {},
     "output_type": "execute_result"
    }
   ],
   "source": [
    "eng_sentences.head()"
   ]
  },
  {
   "cell_type": "code",
   "execution_count": 13,
   "id": "e0ca71b4",
   "metadata": {},
   "outputs": [
    {
     "data": {
      "text/html": [
       "<div>\n",
       "<style scoped>\n",
       "    .dataframe tbody tr th:only-of-type {\n",
       "        vertical-align: middle;\n",
       "    }\n",
       "\n",
       "    .dataframe tbody tr th {\n",
       "        vertical-align: top;\n",
       "    }\n",
       "\n",
       "    .dataframe thead th {\n",
       "        text-align: right;\n",
       "    }\n",
       "</style>\n",
       "<table border=\"1\" class=\"dataframe\">\n",
       "  <thead>\n",
       "    <tr style=\"text-align: right;\">\n",
       "      <th></th>\n",
       "      <th>lang1</th>\n",
       "      <th>lang2</th>\n",
       "    </tr>\n",
       "  </thead>\n",
       "  <tbody>\n",
       "    <tr>\n",
       "      <th>0</th>\n",
       "      <td>1</td>\n",
       "      <td>2481</td>\n",
       "    </tr>\n",
       "    <tr>\n",
       "      <th>1</th>\n",
       "      <td>1</td>\n",
       "      <td>5350</td>\n",
       "    </tr>\n",
       "    <tr>\n",
       "      <th>2</th>\n",
       "      <td>1</td>\n",
       "      <td>180624</td>\n",
       "    </tr>\n",
       "    <tr>\n",
       "      <th>3</th>\n",
       "      <td>1</td>\n",
       "      <td>344899</td>\n",
       "    </tr>\n",
       "    <tr>\n",
       "      <th>4</th>\n",
       "      <td>1</td>\n",
       "      <td>380381</td>\n",
       "    </tr>\n",
       "  </tbody>\n",
       "</table>\n",
       "</div>"
      ],
      "text/plain": [
       "   lang1   lang2\n",
       "0      1    2481\n",
       "1      1    5350\n",
       "2      1  180624\n",
       "3      1  344899\n",
       "4      1  380381"
      ]
     },
     "execution_count": 13,
     "metadata": {},
     "output_type": "execute_result"
    }
   ],
   "source": [
    "links.head()"
   ]
  },
  {
   "cell_type": "markdown",
   "id": "a1af1e73",
   "metadata": {},
   "source": [
    "Оставляем только пары"
   ]
  },
  {
   "cell_type": "code",
   "execution_count": 14,
   "id": "0cd1098c",
   "metadata": {},
   "outputs": [],
   "source": [
    "rus_eng = links.merge(rus_sentences, left_on=\"lang1\", right_on=\"id\").merge(\n",
    "    eng_sentences, left_on=\"lang2\", right_on=\"id\", suffixes=(\"_rus\", \"_eng\")\n",
    ")"
   ]
  },
  {
   "cell_type": "code",
   "execution_count": 15,
   "id": "f428ce77",
   "metadata": {},
   "outputs": [],
   "source": [
    "rus_eng = rus_eng[[\"sentence_rus\", \"sentence_eng\"]]"
   ]
  },
  {
   "cell_type": "code",
   "execution_count": 16,
   "id": "489df5f6",
   "metadata": {},
   "outputs": [
    {
     "name": "stdout",
     "output_type": "stream",
     "text": [
      "rus_eng.shape=(776798, 2)\n"
     ]
    },
    {
     "data": {
      "text/html": [
       "<div>\n",
       "<style scoped>\n",
       "    .dataframe tbody tr th:only-of-type {\n",
       "        vertical-align: middle;\n",
       "    }\n",
       "\n",
       "    .dataframe tbody tr th {\n",
       "        vertical-align: top;\n",
       "    }\n",
       "\n",
       "    .dataframe thead th {\n",
       "        text-align: right;\n",
       "    }\n",
       "</style>\n",
       "<table border=\"1\" class=\"dataframe\">\n",
       "  <thead>\n",
       "    <tr style=\"text-align: right;\">\n",
       "      <th></th>\n",
       "      <th>sentence_rus</th>\n",
       "      <th>sentence_eng</th>\n",
       "    </tr>\n",
       "  </thead>\n",
       "  <tbody>\n",
       "    <tr>\n",
       "      <th>0</th>\n",
       "      <td>Один раз в жизни я делаю хорошее дело... И оно...</td>\n",
       "      <td>For once in my life I'm doing a good deed... A...</td>\n",
       "    </tr>\n",
       "    <tr>\n",
       "      <th>1</th>\n",
       "      <td>Давайте что-нибудь попробуем!</td>\n",
       "      <td>Let's try something.</td>\n",
       "    </tr>\n",
       "    <tr>\n",
       "      <th>2</th>\n",
       "      <td>Мне пора идти спать.</td>\n",
       "      <td>I have to go to sleep.</td>\n",
       "    </tr>\n",
       "    <tr>\n",
       "      <th>3</th>\n",
       "      <td>Мне пора идти спать.</td>\n",
       "      <td>It's time for me to go to bed.</td>\n",
       "    </tr>\n",
       "    <tr>\n",
       "      <th>4</th>\n",
       "      <td>Что ты делаешь?</td>\n",
       "      <td>What are you doing?</td>\n",
       "    </tr>\n",
       "  </tbody>\n",
       "</table>\n",
       "</div>"
      ],
      "text/plain": [
       "                                        sentence_rus  \\\n",
       "0  Один раз в жизни я делаю хорошее дело... И оно...   \n",
       "1                      Давайте что-нибудь попробуем!   \n",
       "2                               Мне пора идти спать.   \n",
       "3                               Мне пора идти спать.   \n",
       "4                                    Что ты делаешь?   \n",
       "\n",
       "                                        sentence_eng  \n",
       "0  For once in my life I'm doing a good deed... A...  \n",
       "1                               Let's try something.  \n",
       "2                             I have to go to sleep.  \n",
       "3                     It's time for me to go to bed.  \n",
       "4                                What are you doing?  "
      ]
     },
     "execution_count": 16,
     "metadata": {},
     "output_type": "execute_result"
    }
   ],
   "source": [
    "print(f\"{rus_eng.shape=}\")\n",
    "rus_eng.head()"
   ]
  },
  {
   "cell_type": "markdown",
   "id": "90e37cff",
   "metadata": {},
   "source": [
    "Был один дубликат"
   ]
  },
  {
   "cell_type": "code",
   "execution_count": 17,
   "id": "514f4728",
   "metadata": {},
   "outputs": [],
   "source": [
    "rus_eng.drop_duplicates(inplace=True, ignore_index=True)"
   ]
  },
  {
   "cell_type": "markdown",
   "id": "9ed87b7b",
   "metadata": {},
   "source": [
    "## Фильтрация\n",
    "\n",
    "- Воспользуемся только обычным предтокенизатором."
   ]
  },
  {
   "cell_type": "code",
   "execution_count": 18,
   "id": "e040de2e",
   "metadata": {},
   "outputs": [],
   "source": [
    "tokenizer = pre_tokenizers.Whitespace()\n",
    "\n",
    "rus_eng = rus_eng.loc[\n",
    "    rus_eng[\"sentence_rus\"].apply(\n",
    "        lambda x: 2 < len(tokenizer.pre_tokenize_str(x)) < 40\n",
    "    )\n",
    "].copy()"
   ]
  },
  {
   "cell_type": "markdown",
   "id": "90326d1c",
   "metadata": {},
   "source": [
    "## Выборка"
   ]
  },
  {
   "cell_type": "code",
   "execution_count": 19,
   "id": "4f03e728",
   "metadata": {},
   "outputs": [],
   "source": [
    "rus_eng = rus_eng.sample(100_000, random_state=42)"
   ]
  },
  {
   "cell_type": "markdown",
   "id": "1aebf105",
   "metadata": {},
   "source": [
    "## Сохранение"
   ]
  },
  {
   "cell_type": "code",
   "execution_count": 20,
   "id": "760ed39b",
   "metadata": {},
   "outputs": [],
   "source": [
    "lines = rus_eng[\"sentence_rus\"] + \"[SEP]\" + rus_eng[\"sentence_eng\"]"
   ]
  },
  {
   "cell_type": "code",
   "execution_count": 21,
   "id": "3bd479c0",
   "metadata": {},
   "outputs": [],
   "source": [
    "with open(\"rus_eng.txt\", \"w\", encoding=\"utf-8\") as f:\n",
    "    f.write(\"\\n\".join(lines))"
   ]
  }
 ],
 "metadata": {
  "kernelspec": {
   "display_name": "torch",
   "language": "python",
   "name": "python3"
  },
  "language_info": {
   "codemirror_mode": {
    "name": "ipython",
    "version": 3
   },
   "file_extension": ".py",
   "mimetype": "text/x-python",
   "name": "python",
   "nbconvert_exporter": "python",
   "pygments_lexer": "ipython3",
   "version": "3.12.9"
  }
 },
 "nbformat": 4,
 "nbformat_minor": 5
}

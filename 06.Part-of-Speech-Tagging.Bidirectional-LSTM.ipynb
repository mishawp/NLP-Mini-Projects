{
 "cells": [
  {
   "cell_type": "markdown",
   "id": "f9e74b43",
   "metadata": {},
   "source": [
    "# Разметка частей речи с использованием BiLSTM"
   ]
  },
  {
   "cell_type": "code",
   "execution_count": 1,
   "id": "7e318734",
   "metadata": {},
   "outputs": [],
   "source": [
    "import re\n",
    "import nltk\n",
    "import torch\n",
    "import numpy as np\n",
    "import torch.nn as nn\n",
    "import torch.optim as optim\n",
    "import torch.utils.data as data\n",
    "\n",
    "from nltk.corpus import treebank, brown, conll2000\n",
    "from sklearn.model_selection import train_test_split\n",
    "from sklearn.metrics import accuracy_score\n",
    "from torch.nn.utils.rnn import (\n",
    "    pad_sequence,\n",
    "    pack_padded_sequence,\n",
    "    pad_packed_sequence,\n",
    ")\n",
    "from tqdm import tqdm"
   ]
  },
  {
   "cell_type": "markdown",
   "id": "fe220f0f",
   "metadata": {},
   "source": [
    "## Датасет\n",
    "\n",
    "Сложно найти открытый датасет с размеченными частями речи, так как создать такой набор данных трудоемкая задача.\n",
    "\n",
    "К счастью, в `nltk` есть несколько таких наборов данных:\n",
    "- `treebank`\n",
    "- `brown`\n",
    "- `conll2000`"
   ]
  },
  {
   "cell_type": "code",
   "execution_count": 2,
   "id": "df474e6f",
   "metadata": {},
   "outputs": [
    {
     "name": "stderr",
     "output_type": "stream",
     "text": [
      "[nltk_data] Downloading package treebank to /home/misha/nltk_data...\n",
      "[nltk_data]   Package treebank is already up-to-date!\n",
      "[nltk_data] Downloading package brown to /home/misha/nltk_data...\n",
      "[nltk_data]   Package brown is already up-to-date!\n",
      "[nltk_data] Downloading package conll2000 to /home/misha/nltk_data...\n",
      "[nltk_data]   Package conll2000 is already up-to-date!\n"
     ]
    },
    {
     "data": {
      "text/plain": [
       "True"
      ]
     },
     "execution_count": 2,
     "metadata": {},
     "output_type": "execute_result"
    }
   ],
   "source": [
    "nltk.download(\"treebank\")\n",
    "nltk.download(\"brown\")\n",
    "nltk.download(\"conll2000\")"
   ]
  },
  {
   "cell_type": "markdown",
   "id": "aa7692a7",
   "metadata": {},
   "source": [
    "В таком виде они используют разные наборы тегов. Чтобы привести их одну, необходимо загрузить `universal_tagset`."
   ]
  },
  {
   "cell_type": "code",
   "execution_count": 3,
   "id": "2ed00836",
   "metadata": {},
   "outputs": [
    {
     "name": "stderr",
     "output_type": "stream",
     "text": [
      "[nltk_data] Downloading package universal_tagset to\n",
      "[nltk_data]     /home/misha/nltk_data...\n",
      "[nltk_data]   Package universal_tagset is already up-to-date!\n"
     ]
    },
    {
     "data": {
      "text/plain": [
       "True"
      ]
     },
     "execution_count": 3,
     "metadata": {},
     "output_type": "execute_result"
    }
   ],
   "source": [
    "nltk.download(\"universal_tagset\")"
   ]
  },
  {
   "cell_type": "code",
   "execution_count": 4,
   "id": "3eeee16a",
   "metadata": {},
   "outputs": [
    {
     "name": "stdout",
     "output_type": "stream",
     "text": [
      "[('Pierre', 'NOUN'), ('Vinken', 'NOUN'), (',', '.'), ('61', 'NUM'), ('years', 'NOUN'), ('old', 'ADJ'), (',', '.'), ('will', 'VERB'), ('join', 'VERB'), ('the', 'DET'), ('board', 'NOUN'), ('as', 'ADP'), ('a', 'DET'), ('nonexecutive', 'ADJ'), ('director', 'NOUN'), ('Nov.', 'NOUN'), ('29', 'NUM'), ('.', '.')]\n",
      "Размер датасета: 72202\n"
     ]
    }
   ],
   "source": [
    "tagged_sentences = (\n",
    "    treebank.tagged_sents(tagset=\"universal\")\n",
    "    + brown.tagged_sents(tagset=\"universal\")\n",
    "    + conll2000.tagged_sents(tagset=\"universal\")\n",
    ")\n",
    "\n",
    "print(tagged_sentences[0])\n",
    "print(f\"Размер датасета: {len(tagged_sentences)}\")"
   ]
  },
  {
   "cell_type": "markdown",
   "id": "076e48e2",
   "metadata": {},
   "source": [
    "## Train-Test-Validation Split\n",
    "\n",
    "Каждое предложение - это последовательность кортежей слово-часть_речи.\n",
    "\n",
    "- Вход модели - последовательность слов;\n",
    "- Выход модели - последовательность PoS теги (метки частей речи (PoS - part-of-speech))\n",
    "\n",
    "Поэтому необходимо разделить входные последовательности от выходных."
   ]
  },
  {
   "cell_type": "code",
   "execution_count": 5,
   "id": "5babef7a",
   "metadata": {},
   "outputs": [],
   "source": [
    "sentences, sentence_tags = [], []\n",
    "\n",
    "for s in tagged_sentences:\n",
    "    sentence, tags = zip(*s)\n",
    "    sentences.append(list(sentence))\n",
    "    sentence_tags.append(list(tags))"
   ]
  },
  {
   "cell_type": "code",
   "execution_count": 6,
   "id": "cd17b12e",
   "metadata": {},
   "outputs": [
    {
     "name": "stdout",
     "output_type": "stream",
     "text": [
      "['Pierre', 'Vinken', ',', '61', 'years', 'old', ',', 'will', 'join', 'the', 'board', 'as', 'a', 'nonexecutive', 'director', 'Nov.', '29', '.']\n",
      "['NOUN', 'NOUN', '.', 'NUM', 'NOUN', 'ADJ', '.', 'VERB', 'VERB', 'DET', 'NOUN', 'ADP', 'DET', 'ADJ', 'NOUN', 'NOUN', 'NUM', '.']\n",
      "72202 72202\n"
     ]
    }
   ],
   "source": [
    "print(sentences[0])\n",
    "print(sentence_tags[0])\n",
    "print(len(sentences), len(sentence_tags))"
   ]
  },
  {
   "cell_type": "markdown",
   "id": "5c497b14",
   "metadata": {},
   "source": [
    "Делим на обучающую, валидационную и тестовую выборки."
   ]
  },
  {
   "cell_type": "code",
   "execution_count": 7,
   "id": "606beab5",
   "metadata": {},
   "outputs": [],
   "source": [
    "train_ratio = 0.75\n",
    "validation_ratio = 0.15\n",
    "test_ratio = 0.10\n",
    "\n",
    "x_train, x_test, y_train, y_test = train_test_split(\n",
    "    sentences, sentence_tags, test_size=1 - train_ratio, random_state=1\n",
    ")\n",
    "\n",
    "x_val, x_test, y_val, y_test = train_test_split(\n",
    "    x_test,\n",
    "    y_test,\n",
    "    test_size=test_ratio / (test_ratio + validation_ratio),\n",
    "    random_state=1,\n",
    ")"
   ]
  },
  {
   "cell_type": "code",
   "execution_count": 8,
   "id": "f6da547c",
   "metadata": {},
   "outputs": [
    {
     "name": "stdout",
     "output_type": "stream",
     "text": [
      "54151 54151\n",
      "10830 10830\n",
      "7221 7221\n"
     ]
    }
   ],
   "source": [
    "print(len(x_train), len(y_train))\n",
    "print(len(x_val), len(y_val))\n",
    "print(len(x_test), len(y_test))"
   ]
  },
  {
   "cell_type": "markdown",
   "id": "4d780923",
   "metadata": {},
   "source": [
    "## Векторизация"
   ]
  },
  {
   "cell_type": "code",
   "execution_count": 9,
   "id": "573ac0e1",
   "metadata": {},
   "outputs": [],
   "source": [
    "class Vocab:\n",
    "    def __init__(\n",
    "        self, unk_token: str | None = \"<unk>\", pad_token: str | None = \"<pad>\"\n",
    "    ):\n",
    "        self.unk = unk_token\n",
    "        self.pad = pad_token\n",
    "        self.word_index = {}\n",
    "        self.index_word = {}\n",
    "\n",
    "        self.num_specials = 0\n",
    "        if self.pad:\n",
    "            self.word_index[self.pad] = self.num_specials\n",
    "        if self.unk:\n",
    "            self.num_specials += 1\n",
    "            self.word_index[self.unk] = self.num_specials\n",
    "\n",
    "    def fit(self, texts):\n",
    "        words = set()\n",
    "        for sequence in texts:\n",
    "            words.update(sequence)\n",
    "\n",
    "        self.word_index.update(\n",
    "            (word, i)\n",
    "            for i, word in enumerate(words, start=self.num_specials + 1)\n",
    "        )\n",
    "\n",
    "        self.index_word = {i: word for word, i in self.word_index.items()}\n",
    "\n",
    "    def texts_to_sequences(self, texts: list[list[str]]) -> list[torch.Tensor]:\n",
    "        \"\"\"\n",
    "        Returns:\n",
    "            list[torch.Tensor]: list of tensors shape (num_words,), dtype=torch.long\n",
    "        \"\"\"\n",
    "        if self.unk:\n",
    "            return [\n",
    "                torch.tensor(\n",
    "                    [\n",
    "                        self.word_index.get(word, self.word_index[self.unk])\n",
    "                        for word in text\n",
    "                    ],\n",
    "                    dtype=torch.long,\n",
    "                )\n",
    "                for text in texts\n",
    "            ]\n",
    "        else:\n",
    "            return [\n",
    "                torch.tensor(\n",
    "                    [self.word_index[word] for word in text],\n",
    "                    dtype=torch.long,\n",
    "                )\n",
    "                for text in texts\n",
    "            ]\n",
    "\n",
    "    def sequences_to_texts(\n",
    "        self, sequences: list[list[int]] | list[torch.Tensor]\n",
    "    ) -> list[list[str]]:\n",
    "        return [\n",
    "            [self.index_word[index] for index in sequence.tolist()]\n",
    "            for sequence in sequences\n",
    "        ]\n"
   ]
  },
  {
   "cell_type": "code",
   "execution_count": 10,
   "id": "e7a17cfc",
   "metadata": {},
   "outputs": [
    {
     "name": "stdout",
     "output_type": "stream",
     "text": [
      "Размер словаря: 58535\n"
     ]
    }
   ],
   "source": [
    "sentence_tokenizer = Vocab()\n",
    "sentence_tokenizer.fit(x_train)\n",
    "print(f\"Размер словаря: {len(sentence_tokenizer.word_index)}\")"
   ]
  },
  {
   "cell_type": "code",
   "execution_count": 11,
   "id": "5dff3716",
   "metadata": {},
   "outputs": [
    {
     "name": "stdout",
     "output_type": "stream",
     "text": [
      "Число частей речи: 12\n",
      "\n"
     ]
    }
   ],
   "source": [
    "tag_tokenizer = Vocab(unk_token=None, pad_token=None)\n",
    "tag_tokenizer.fit(y_train)\n",
    "print(f\"Число частей речи: {len(tag_tokenizer.word_index)}\\n\")"
   ]
  },
  {
   "cell_type": "code",
   "execution_count": 12,
   "id": "5f2f099c",
   "metadata": {},
   "outputs": [
    {
     "data": {
      "text/plain": [
       "{'ADP': 1,\n",
       " 'NUM': 2,\n",
       " 'PRT': 3,\n",
       " 'ADJ': 4,\n",
       " 'NOUN': 5,\n",
       " 'ADV': 6,\n",
       " 'PRON': 7,\n",
       " 'VERB': 8,\n",
       " '.': 9,\n",
       " 'DET': 10,\n",
       " 'CONJ': 11,\n",
       " 'X': 12}"
      ]
     },
     "execution_count": 12,
     "metadata": {},
     "output_type": "execute_result"
    }
   ],
   "source": [
    "tag_tokenizer.word_index"
   ]
  },
  {
   "cell_type": "markdown",
   "id": "f4b7dfff",
   "metadata": {},
   "source": [
    "Теперь можем получать последовательности индексов слов по списку слов."
   ]
  },
  {
   "cell_type": "code",
   "execution_count": 13,
   "id": "920150ee",
   "metadata": {},
   "outputs": [],
   "source": [
    "x_train_seqs = sentence_tokenizer.texts_to_sequences(x_train)"
   ]
  },
  {
   "cell_type": "code",
   "execution_count": 14,
   "id": "6f51859f",
   "metadata": {},
   "outputs": [
    {
     "name": "stdout",
     "output_type": "stream",
     "text": [
      "tensor([46248, 36907, 13556, 31977, 38230, 42994, 20022, 36783, 41235,  9632,\n",
      "        22841, 21402,  6277])\n"
     ]
    }
   ],
   "source": [
    "print(x_train_seqs[0])"
   ]
  },
  {
   "cell_type": "markdown",
   "id": "4f5133c9",
   "metadata": {},
   "source": [
    "А также получать список слов по последовательности индексов."
   ]
  },
  {
   "cell_type": "code",
   "execution_count": 15,
   "id": "71a296dc",
   "metadata": {},
   "outputs": [
    {
     "name": "stdout",
     "output_type": "stream",
     "text": [
      "Оригинал: ['This', 'may', 'be', 'due', 'to', 'the', 'heavy', 'interlobular', 'connective', 'tissue', 'barriers', 'present', '.']\n",
      "Востановленный: [['This', 'may', 'be', 'due', 'to', 'the', 'heavy', 'interlobular', 'connective', 'tissue', 'barriers', 'present', '.']]\n"
     ]
    }
   ],
   "source": [
    "print(f\"Оригинал: {x_train[0]}\")\n",
    "print(\n",
    "    f\"Востановленный: {sentence_tokenizer.sequences_to_texts([x_train_seqs[0]])}\"\n",
    ")"
   ]
  },
  {
   "cell_type": "markdown",
   "id": "12ce2b06",
   "metadata": {},
   "source": [
    "Теперь преобразуем метки."
   ]
  },
  {
   "cell_type": "code",
   "execution_count": 16,
   "id": "0e2e69a8",
   "metadata": {},
   "outputs": [],
   "source": [
    "y_train_seqs = tag_tokenizer.texts_to_sequences(y_train)"
   ]
  },
  {
   "cell_type": "code",
   "execution_count": 17,
   "id": "bf601351",
   "metadata": {},
   "outputs": [
    {
     "data": {
      "text/plain": [
       "[['DET',\n",
       "  'VERB',\n",
       "  'VERB',\n",
       "  'ADJ',\n",
       "  'ADP',\n",
       "  'DET',\n",
       "  'ADJ',\n",
       "  'ADJ',\n",
       "  'ADJ',\n",
       "  'NOUN',\n",
       "  'NOUN',\n",
       "  'ADV',\n",
       "  '.']]"
      ]
     },
     "execution_count": 17,
     "metadata": {},
     "output_type": "execute_result"
    }
   ],
   "source": [
    "tag_tokenizer.sequences_to_texts([y_train_seqs[0]])"
   ]
  },
  {
   "cell_type": "markdown",
   "id": "734dc22c",
   "metadata": {},
   "source": [
    "А также преобразуем валидационную выборку."
   ]
  },
  {
   "cell_type": "code",
   "execution_count": 18,
   "id": "ab8e980b",
   "metadata": {},
   "outputs": [],
   "source": [
    "x_val_seqs = sentence_tokenizer.texts_to_sequences(x_val)\n",
    "y_val_seqs = tag_tokenizer.texts_to_sequences(y_val)"
   ]
  },
  {
   "cell_type": "markdown",
   "id": "1035be3b",
   "metadata": {},
   "source": [
    "## Padding\n",
    "\n",
    "Хотя RNN может принимать последовательности разной длины, их все равно придется привести к одной длине, так как записи в тензоре батча не могут быть переменной длины.\n",
    "\n",
    "Лучше всего отсортировать тренировочный набор, и дополнять нулями до значения, соответствующего длине наибольшей последовательности.\n",
    "\n",
    "На этот раз, мы сделаем **все** тензоры равным по длине максимальному."
   ]
  },
  {
   "cell_type": "code",
   "execution_count": 19,
   "id": "468dad28",
   "metadata": {},
   "outputs": [
    {
     "name": "stdout",
     "output_type": "stream",
     "text": [
      "Длина максимальной последовательности: 161\n",
      "Длина минимальной последовательности: 1\n"
     ]
    }
   ],
   "source": [
    "MAX_LENGTH = len(max(x_train_seqs, key=len))\n",
    "MIN_LENGTH = len(min(x_train_seqs, key=len))\n",
    "print(\"Длина максимальной последовательности:\", MAX_LENGTH)\n",
    "print(\"Длина минимальной последовательности:\", MIN_LENGTH)"
   ]
  },
  {
   "cell_type": "code",
   "execution_count": 20,
   "id": "a9a8f326",
   "metadata": {},
   "outputs": [],
   "source": [
    "PAD_IDX = 0\n",
    "x_train_padded = pad_sequence(\n",
    "    x_train_seqs, batch_first=True, padding_value=PAD_IDX\n",
    ")"
   ]
  },
  {
   "cell_type": "code",
   "execution_count": 21,
   "id": "20999fe3",
   "metadata": {},
   "outputs": [
    {
     "name": "stdout",
     "output_type": "stream",
     "text": [
      "tensor([46248, 36907, 13556, 31977, 38230, 42994, 20022, 36783, 41235,  9632,\n",
      "        22841, 21402,  6277,     0,     0,     0,     0,     0,     0,     0,\n",
      "            0,     0,     0,     0,     0,     0,     0,     0,     0,     0,\n",
      "            0,     0,     0,     0,     0,     0,     0,     0,     0,     0,\n",
      "            0,     0,     0,     0,     0,     0,     0,     0,     0,     0,\n",
      "            0,     0,     0,     0,     0,     0,     0,     0,     0,     0,\n",
      "            0,     0,     0,     0,     0,     0,     0,     0,     0,     0,\n",
      "            0,     0,     0,     0,     0,     0,     0,     0,     0,     0,\n",
      "            0,     0,     0,     0,     0,     0,     0,     0,     0,     0,\n",
      "            0,     0,     0,     0,     0,     0,     0,     0,     0,     0,\n",
      "            0,     0,     0,     0,     0,     0,     0,     0,     0,     0,\n",
      "            0,     0,     0,     0,     0,     0,     0,     0,     0,     0,\n",
      "            0,     0,     0,     0,     0,     0,     0,     0,     0,     0,\n",
      "            0,     0,     0,     0,     0,     0,     0,     0,     0,     0,\n",
      "            0,     0,     0,     0,     0,     0,     0,     0,     0,     0,\n",
      "            0,     0,     0,     0,     0,     0,     0,     0,     0,     0,\n",
      "            0])\n"
     ]
    }
   ],
   "source": [
    "print(x_train_padded[0])"
   ]
  },
  {
   "cell_type": "markdown",
   "id": "537d18f9",
   "metadata": {},
   "source": [
    "Теперь для `y_train`"
   ]
  },
  {
   "cell_type": "code",
   "execution_count": 22,
   "id": "1b2411b1",
   "metadata": {},
   "outputs": [],
   "source": [
    "y_train_padded = pad_sequence(\n",
    "    y_train_seqs, batch_first=True, padding_value=PAD_IDX\n",
    ").long()"
   ]
  },
  {
   "cell_type": "markdown",
   "id": "ebfebd22",
   "metadata": {},
   "source": [
    "Необходимо также сохранить длины последовательностей для использования их в `pack_padded_sequence, pad_packed_sequence`."
   ]
  },
  {
   "cell_type": "code",
   "execution_count": 23,
   "id": "170e2695",
   "metadata": {},
   "outputs": [],
   "source": [
    "train_lengths = torch.tensor(\n",
    "    [len(seq) for seq in x_train_seqs], dtype=torch.long\n",
    ")"
   ]
  },
  {
   "cell_type": "markdown",
   "id": "e4d56901",
   "metadata": {},
   "source": [
    "И валидационная выборка."
   ]
  },
  {
   "cell_type": "code",
   "execution_count": 24,
   "id": "390cdc92",
   "metadata": {},
   "outputs": [],
   "source": [
    "x_val_padded = pad_sequence(\n",
    "    x_val_seqs, batch_first=True, padding_value=PAD_IDX\n",
    ")\n",
    "y_val_padded = pad_sequence(\n",
    "    y_val_seqs, batch_first=True, padding_value=PAD_IDX\n",
    ").long()\n",
    "val_lengths = torch.tensor([len(seq) for seq in x_val_seqs], dtype=torch.long)"
   ]
  },
  {
   "cell_type": "code",
   "execution_count": 25,
   "id": "f93a493d",
   "metadata": {},
   "outputs": [
    {
     "data": {
      "text/plain": [
       "torch.int64"
      ]
     },
     "execution_count": 25,
     "metadata": {},
     "output_type": "execute_result"
    }
   ],
   "source": [
    "y_val_padded[0].dtype"
   ]
  },
  {
   "cell_type": "markdown",
   "id": "0cb05e1a",
   "metadata": {},
   "source": [
    "## Модель"
   ]
  },
  {
   "cell_type": "code",
   "execution_count": 26,
   "id": "c1a9cc34",
   "metadata": {},
   "outputs": [],
   "source": [
    "class PoSDataset(data.Dataset):\n",
    "    def __init__(\n",
    "        self, x: torch.Tensor, y: torch.Tensor, lengths: torch.Tensor\n",
    "    ):\n",
    "        super().__init__()\n",
    "        self.x = x\n",
    "        self.y = y\n",
    "        self.lengths = lengths\n",
    "        self.length = x.size(0)\n",
    "\n",
    "    def __getitem__(self, index):\n",
    "        return self.x[index], self.y[index], self.lengths[index]\n",
    "\n",
    "    def __len__(self):\n",
    "        return self.length\n",
    "\n",
    "\n",
    "class PoSModel(nn.Module):\n",
    "    def __init__(\n",
    "        self, num_classes, num_embeddings, embedding_dim=128, padding_idx=0\n",
    "    ):\n",
    "        super().__init__()\n",
    "        self.embedding = nn.Embedding(\n",
    "            num_embeddings, embedding_dim, padding_idx\n",
    "        )\n",
    "        self.lstm = nn.LSTM(\n",
    "            embedding_dim,\n",
    "            embedding_dim,\n",
    "            bidirectional=True,\n",
    "            batch_first=True,\n",
    "        )\n",
    "        self.out = nn.Linear(embedding_dim * 2, num_classes)\n",
    "        # nn.Softmax в CrossEntropy есть\n",
    "\n",
    "    def forward(self, x, lengths):\n",
    "        # x: (batch_size, seq_length)\n",
    "        embeddings = self.embedding(x)\n",
    "        # embeddings: (batch_size, seq_length, embedding_dim)\n",
    "        packed_embeddings = pack_padded_sequence(\n",
    "            embeddings, lengths, batch_first=True, enforce_sorted=False\n",
    "        )\n",
    "        packed_out, (h_n, c_n) = self.lstm(packed_embeddings)\n",
    "        # packed_out: (batch_size, lengths, out)\n",
    "        out, out_lengths = pad_packed_sequence(\n",
    "            packed_out, batch_first=True, total_length=x.size(1)\n",
    "        )\n",
    "\n",
    "        out = self.out(out)\n",
    "        return out\n"
   ]
  },
  {
   "cell_type": "markdown",
   "id": "c1d06e7d",
   "metadata": {},
   "source": [
    "## Обучение модели"
   ]
  },
  {
   "cell_type": "code",
   "execution_count": 27,
   "id": "6e4a45ea",
   "metadata": {},
   "outputs": [],
   "source": [
    "class PoSTrainer:\n",
    "    def __init__(\n",
    "        self,\n",
    "        model: nn.Module,\n",
    "        criterion: nn.Module,\n",
    "        optimizer: optim.Optimizer,\n",
    "        train_dataloader: data.DataLoader,\n",
    "        val_dataloader: data.DataLoader,\n",
    "        epochs: int,\n",
    "        patience: int,\n",
    "        device: torch.device,\n",
    "    ):\n",
    "        self.model = model.to(device)\n",
    "        self.train_dataloader = train_dataloader\n",
    "        self.val_dataloader = val_dataloader\n",
    "        self.criterion = criterion\n",
    "        self.optimizer = optimizer\n",
    "        self.epochs = epochs\n",
    "        self.patience = patience\n",
    "        self.device = device\n",
    "\n",
    "    def compute_metrics(self, y_pred, y_true):\n",
    "        return {\"accuracy\": accuracy_score(y_true, y_pred)}\n",
    "\n",
    "    def _run_epoch(self, dataloader, train: bool = True):\n",
    "        if train:\n",
    "            self.model.train()\n",
    "        else:\n",
    "            self.model.eval()\n",
    "\n",
    "        epoch_loss = 0.0\n",
    "        epoch_predicts = []\n",
    "        epoch_labels = []\n",
    "\n",
    "        ctx = torch.enable_grad() if train else torch.no_grad()\n",
    "        with ctx:\n",
    "            for X, y, lengths in tqdm(\n",
    "                dataloader, desc=\"Train\" if train else \"Val\"\n",
    "            ):\n",
    "                X, y = X.to(self.device), y.to(self.device)\n",
    "                lengths = lengths.cpu()\n",
    "\n",
    "                outputs = self.model(\n",
    "                    X, lengths\n",
    "                )  # (batch, seq_len, num_classes)\n",
    "                loss = self.criterion(outputs.permute(0, 2, 1), y)\n",
    "\n",
    "                if train:\n",
    "                    self.optimizer.zero_grad()\n",
    "                    loss.backward()\n",
    "                    self.optimizer.step()\n",
    "\n",
    "                epoch_loss += loss.item()\n",
    "\n",
    "                predicts = outputs.detach().cpu().argmax(dim=-1).numpy()\n",
    "                labels = y.detach().cpu().numpy()\n",
    "                mask = labels != PAD_IDX\n",
    "                if mask.any():\n",
    "                    epoch_predicts.extend(predicts[mask])\n",
    "                    epoch_labels.extend(labels[mask])\n",
    "\n",
    "        epoch_loss /= len(dataloader)\n",
    "        metrics = self.compute_metrics(epoch_predicts, epoch_labels)\n",
    "        return epoch_loss, metrics\n",
    "\n",
    "    def _train_epoch(self):\n",
    "        return self._run_epoch(self.train_dataloader, train=True)\n",
    "\n",
    "    def _validate(self, dataloader=None):\n",
    "        if dataloader is None:\n",
    "            dataloader = self.val_dataloader\n",
    "        return self._run_epoch(dataloader, train=False)\n",
    "\n",
    "    def test(\n",
    "        self, test_dataloader: data.DataLoader\n",
    "    ) -> tuple[float, dict[str, float | int]]:\n",
    "        return self._validate(test_dataloader)\n",
    "\n",
    "    def __append_to_history(self, **kwargs):\n",
    "        for k in self.history:\n",
    "            self.history[k].append(kwargs[k])\n",
    "\n",
    "    def train(self):\n",
    "        self.history = dict(\n",
    "            train_loss=[], val_loss=[], train_accuracy=[], val_accuracy=[]\n",
    "        )\n",
    "        best_score = 0\n",
    "        no_improve = 0\n",
    "        best_model = {\n",
    "            k: v.cpu().clone() for k, v in self.model.state_dict().items()\n",
    "        }\n",
    "        for epoch in range(self.epochs):\n",
    "            train_loss, train_metrics = self._train_epoch()\n",
    "            val_loss, val_metrics = self._validate()\n",
    "            self.__append_to_history(\n",
    "                train_loss=train_loss,\n",
    "                train_accuracy=train_metrics[\"accuracy\"],\n",
    "                val_loss=val_loss,\n",
    "                val_accuracy=val_metrics[\"accuracy\"],\n",
    "            )\n",
    "\n",
    "            print(f\"Epoch {epoch + 1}/{self.epochs}\")\n",
    "            print(\n",
    "                f\"Train Loss:      {train_loss:.3f}, \"\n",
    "                f\"Train Accuracy:      {train_metrics['accuracy']:.3f}\"\n",
    "            )\n",
    "            print(\n",
    "                f\"Validation Loss: {val_loss:.3f}, \"\n",
    "                f\"Validation Accuracy: {val_metrics['accuracy']:.3f}\"\n",
    "            )\n",
    "            print()\n",
    "            if val_metrics[\"accuracy\"] > best_score:\n",
    "                best_score = val_metrics[\"accuracy\"]\n",
    "                best_model = {\n",
    "                    k: v.cpu().clone()\n",
    "                    for k, v in self.model.state_dict().items()\n",
    "                }\n",
    "                no_improve = 0\n",
    "            else:\n",
    "                no_improve += 1\n",
    "\n",
    "            if no_improve >= self.patience:\n",
    "                print(f\"Early stopping after {epoch + 1} epoch\")\n",
    "                self.model.load_state_dict(best_model)\n",
    "                break\n",
    "\n",
    "        print(f\"Best Accuracy: {best_score:.4f}\")\n",
    "        return self.history"
   ]
  },
  {
   "cell_type": "code",
   "execution_count": 28,
   "id": "fe0c3a2a",
   "metadata": {},
   "outputs": [
    {
     "name": "stdout",
     "output_type": "stream",
     "text": [
      "Device: cuda\n"
     ]
    }
   ],
   "source": [
    "model = PoSModel(\n",
    "    num_classes=len(tag_tokenizer.word_index) + 1,\n",
    "    num_embeddings=len(sentence_tokenizer.word_index),\n",
    "    embedding_dim=128,\n",
    "    padding_idx=PAD_IDX,\n",
    ")\n",
    "\n",
    "train_dataset = PoSDataset(x_train_padded, y_train_padded, train_lengths)\n",
    "val_dataset = PoSDataset(x_val_padded, y_val_padded, val_lengths)\n",
    "\n",
    "train_dataloader = data.DataLoader(train_dataset, batch_size=16, shuffle=True)\n",
    "val_dataloader = data.DataLoader(val_dataset, batch_size=16, shuffle=False)\n",
    "\n",
    "criterion = nn.CrossEntropyLoss(ignore_index=PAD_IDX)\n",
    "optimizer = optim.Adam(model.parameters(), lr=0.001)\n",
    "\n",
    "epochs = 20\n",
    "patience = 3\n",
    "device = torch.device(\"cuda\" if torch.cuda.is_available() else \"cpu\")\n",
    "print(\"Device:\", device)\n",
    "\n",
    "trainer = PoSTrainer(\n",
    "    model,\n",
    "    criterion,\n",
    "    optimizer,\n",
    "    train_dataloader,\n",
    "    val_dataloader,\n",
    "    epochs,\n",
    "    patience,\n",
    "    device,\n",
    ")"
   ]
  },
  {
   "cell_type": "code",
   "execution_count": 29,
   "id": "81e55815",
   "metadata": {},
   "outputs": [
    {
     "name": "stderr",
     "output_type": "stream",
     "text": [
      "Train: 100%|██████████| 3385/3385 [00:31<00:00, 107.31it/s]\n",
      "Val: 100%|██████████| 677/677 [00:02<00:00, 238.93it/s]\n"
     ]
    },
    {
     "name": "stdout",
     "output_type": "stream",
     "text": [
      "Epoch 1/20\n",
      "Train Loss:      0.295, Train Accuracy:      0.907\n",
      "Validation Loss: 0.156, Validation Accuracy: 0.947\n",
      "\n"
     ]
    },
    {
     "name": "stderr",
     "output_type": "stream",
     "text": [
      "Train: 100%|██████████| 3385/3385 [00:31<00:00, 108.36it/s]\n",
      "Val: 100%|██████████| 677/677 [00:02<00:00, 251.99it/s]\n"
     ]
    },
    {
     "name": "stdout",
     "output_type": "stream",
     "text": [
      "Epoch 2/20\n",
      "Train Loss:      0.113, Train Accuracy:      0.963\n",
      "Validation Loss: 0.122, Validation Accuracy: 0.958\n",
      "\n"
     ]
    },
    {
     "name": "stderr",
     "output_type": "stream",
     "text": [
      "Train: 100%|██████████| 3385/3385 [00:31<00:00, 108.87it/s]\n",
      "Val: 100%|██████████| 677/677 [00:02<00:00, 266.52it/s]\n"
     ]
    },
    {
     "name": "stdout",
     "output_type": "stream",
     "text": [
      "Epoch 3/20\n",
      "Train Loss:      0.068, Train Accuracy:      0.978\n",
      "Validation Loss: 0.112, Validation Accuracy: 0.962\n",
      "\n"
     ]
    },
    {
     "name": "stderr",
     "output_type": "stream",
     "text": [
      "Train: 100%|██████████| 3385/3385 [00:31<00:00, 109.06it/s]\n",
      "Val: 100%|██████████| 677/677 [00:02<00:00, 235.01it/s]\n"
     ]
    },
    {
     "name": "stdout",
     "output_type": "stream",
     "text": [
      "Epoch 4/20\n",
      "Train Loss:      0.041, Train Accuracy:      0.987\n",
      "Validation Loss: 0.132, Validation Accuracy: 0.960\n",
      "\n"
     ]
    },
    {
     "name": "stderr",
     "output_type": "stream",
     "text": [
      "Train: 100%|██████████| 3385/3385 [00:31<00:00, 108.92it/s]\n",
      "Val: 100%|██████████| 677/677 [00:02<00:00, 257.30it/s]\n"
     ]
    },
    {
     "name": "stdout",
     "output_type": "stream",
     "text": [
      "Epoch 5/20\n",
      "Train Loss:      0.025, Train Accuracy:      0.992\n",
      "Validation Loss: 0.132, Validation Accuracy: 0.963\n",
      "\n"
     ]
    },
    {
     "name": "stderr",
     "output_type": "stream",
     "text": [
      "Train: 100%|██████████| 3385/3385 [00:31<00:00, 108.33it/s]\n",
      "Val: 100%|██████████| 677/677 [00:02<00:00, 270.28it/s]\n"
     ]
    },
    {
     "name": "stdout",
     "output_type": "stream",
     "text": [
      "Epoch 6/20\n",
      "Train Loss:      0.016, Train Accuracy:      0.995\n",
      "Validation Loss: 0.133, Validation Accuracy: 0.965\n",
      "\n"
     ]
    },
    {
     "name": "stderr",
     "output_type": "stream",
     "text": [
      "Train: 100%|██████████| 3385/3385 [00:31<00:00, 108.59it/s]\n",
      "Val: 100%|██████████| 677/677 [00:02<00:00, 265.02it/s]\n"
     ]
    },
    {
     "name": "stdout",
     "output_type": "stream",
     "text": [
      "Epoch 7/20\n",
      "Train Loss:      0.010, Train Accuracy:      0.997\n",
      "Validation Loss: 0.172, Validation Accuracy: 0.960\n",
      "\n"
     ]
    },
    {
     "name": "stderr",
     "output_type": "stream",
     "text": [
      "Train: 100%|██████████| 3385/3385 [00:31<00:00, 108.79it/s]\n",
      "Val: 100%|██████████| 677/677 [00:03<00:00, 215.68it/s]\n"
     ]
    },
    {
     "name": "stdout",
     "output_type": "stream",
     "text": [
      "Epoch 8/20\n",
      "Train Loss:      0.007, Train Accuracy:      0.998\n",
      "Validation Loss: 0.178, Validation Accuracy: 0.962\n",
      "\n"
     ]
    },
    {
     "name": "stderr",
     "output_type": "stream",
     "text": [
      "Train: 100%|██████████| 3385/3385 [00:30<00:00, 109.65it/s]\n",
      "Val: 100%|██████████| 677/677 [00:02<00:00, 246.98it/s]"
     ]
    },
    {
     "name": "stdout",
     "output_type": "stream",
     "text": [
      "Epoch 9/20\n",
      "Train Loss:      0.006, Train Accuracy:      0.998\n",
      "Validation Loss: 0.201, Validation Accuracy: 0.960\n",
      "\n",
      "Early stopping after 9 epoch\n",
      "Best Accuracy: 0.9648\n"
     ]
    },
    {
     "name": "stderr",
     "output_type": "stream",
     "text": [
      "\n"
     ]
    }
   ],
   "source": [
    "history = trainer.train()"
   ]
  },
  {
   "cell_type": "code",
   "execution_count": 30,
   "id": "4006d682",
   "metadata": {},
   "outputs": [],
   "source": [
    "import matplotlib.pyplot as plt\n",
    "\n",
    "\n",
    "def plot_history(history: dict[list]):\n",
    "    fig, (ax1, ax2) = plt.subplots(2, figsize=(15, 15))\n",
    "\n",
    "    ax1.plot(history[\"train_loss\"], label=\"Train Loss\", color=\"blue\")\n",
    "    ax1.plot(history[\"val_loss\"], label=\"Validation Loss\", color=\"red\")\n",
    "    ax1.set_xlabel(\"Epochs\")\n",
    "    ax1.set_ylabel(\"Loss\")\n",
    "    ax1.set_title(\"Training and Validation Loss\")\n",
    "    ax1.legend()\n",
    "    ax1.grid()\n",
    "\n",
    "    ax2.plot(history[\"train_accuracy\"], label=\"Train Accuracy\", color=\"blue\")\n",
    "    ax2.plot(history[\"val_accuracy\"], label=\"Validation Accuracy\", color=\"red\")\n",
    "    ax2.set_xlabel(\"Epochs\")\n",
    "    ax2.set_ylabel(\"Accuracy\")\n",
    "    ax2.set_title(\"Training and Validation Accuracy\")\n",
    "    ax2.legend()\n",
    "    ax2.grid()\n",
    "\n",
    "    fig.suptitle(\"Model Training Metrics\", fontsize=16)\n",
    "\n",
    "    fig.tight_layout(pad=2)\n",
    "    plt.show()"
   ]
  },
  {
   "cell_type": "code",
   "execution_count": 31,
   "id": "8fb63019",
   "metadata": {},
   "outputs": [
    {
     "data": {
      "image/png": "[encoded data removed]",
      "text/plain": [
       "<Figure size 1500x1500 with 2 Axes>"
      ]
     },
     "metadata": {},
     "output_type": "display_data"
    }
   ],
   "source": [
    "plot_history(history)"
   ]
  },
  {
   "cell_type": "markdown",
   "id": "21b1bf96",
   "metadata": {},
   "source": [
    "## Тестирование"
   ]
  },
  {
   "cell_type": "code",
   "execution_count": 32,
   "id": "7988fdb5",
   "metadata": {},
   "outputs": [],
   "source": [
    "x_test_seqs = sentence_tokenizer.texts_to_sequences(x_test)\n",
    "y_test_seqs = tag_tokenizer.texts_to_sequences(y_test)\n",
    "\n",
    "x_test_padded = pad_sequence(\n",
    "    x_test_seqs, batch_first=True, padding_value=PAD_IDX\n",
    ")\n",
    "y_test_padded = pad_sequence(\n",
    "    y_test_seqs, batch_first=True, padding_value=PAD_IDX\n",
    ").long()\n",
    "\n",
    "test_lengths = torch.tensor(\n",
    "    [len(seq) for seq in x_test_seqs], dtype=torch.long\n",
    ")"
   ]
  },
  {
   "cell_type": "code",
   "execution_count": 33,
   "id": "0423462a",
   "metadata": {},
   "outputs": [
    {
     "name": "stderr",
     "output_type": "stream",
     "text": [
      "Val: 100%|██████████| 452/452 [00:01<00:00, 263.63it/s]\n"
     ]
    }
   ],
   "source": [
    "test_dataset = PoSDataset(x_test_padded, y_test_padded, test_lengths)\n",
    "test_dataloader = data.DataLoader(test_dataset, batch_size=16, shuffle=False)\n",
    "loss, metrics = trainer.test(test_dataloader)"
   ]
  },
  {
   "cell_type": "code",
   "execution_count": 34,
   "id": "f10c6a65",
   "metadata": {},
   "outputs": [
    {
     "name": "stdout",
     "output_type": "stream",
     "text": [
      "Test Loss:     0.138\n",
      "Test Accuracy: 0.965\n"
     ]
    }
   ],
   "source": [
    "print(f\"Test Loss:     {loss:.3f}\")\n",
    "print(f\"Test Accuracy: {metrics['accuracy']:.3f}\")"
   ]
  },
  {
   "cell_type": "markdown",
   "id": "826eef0c",
   "metadata": {},
   "source": [
    "## Инференс\n",
    "\n",
    "Теперь можем использовать модель для разметки частей речи"
   ]
  },
  {
   "cell_type": "code",
   "execution_count": 35,
   "id": "afbe6d44",
   "metadata": {},
   "outputs": [],
   "source": [
    "samples = [\n",
    "    \"Brown refused to testify.\",\n",
    "    \"Brown sofas are on sale.\",\n",
    "    \"Are you kidding me? I mean - wtf, man\",\n",
    "]"
   ]
  },
  {
   "cell_type": "code",
   "execution_count": 36,
   "id": "9b448996",
   "metadata": {},
   "outputs": [],
   "source": [
    "import spacy\n",
    "\n",
    "nlp = spacy.blank(\"en\")\n",
    "\n",
    "\n",
    "def spacy_tokenizer(string):\n",
    "    return [t.text for t in nlp(string)]\n",
    "\n",
    "\n",
    "def tag_sentences(sentences: list[str]):\n",
    "    tokenized = [spacy_tokenizer(text) for text in sentences]\n",
    "    sentences_seqs = sentence_tokenizer.texts_to_sequences(tokenized)\n",
    "    sentences_padded = pad_sequence(\n",
    "        sentences_seqs, batch_first=True, padding_value=PAD_IDX\n",
    "    )\n",
    "    lengths = torch.tensor(\n",
    "        [len(seq) for seq in sentences_padded], dtype=torch.long\n",
    "    )\n",
    "\n",
    "    model.eval()\n",
    "    with torch.no_grad():\n",
    "        # outputs: (batch_size, seq_len, num_classes)\n",
    "        outputs = model(sentences_padded.to(device), lengths)\n",
    "    # predicts: (batch_size, seq_len)\n",
    "    predicts = outputs.detach().cpu().argmax(dim=-1).numpy()\n",
    "\n",
    "    sentence_tags = []\n",
    "    for i, predict in enumerate(predicts):\n",
    "        words = [\n",
    "            sentence_tokenizer.index_word[w]\n",
    "            for w in sentences_seqs[i].tolist()\n",
    "        ]\n",
    "        tags = [\n",
    "            tag_tokenizer.index_word[tag]\n",
    "            for tag in predict[: sentences_seqs[i].size(0) + 1]\n",
    "        ]\n",
    "        sentence_tags.append(list(zip(words, tags)))\n",
    "\n",
    "    return sentence_tags"
   ]
  },
  {
   "cell_type": "code",
   "execution_count": 37,
   "id": "3353d74b",
   "metadata": {},
   "outputs": [],
   "source": [
    "tagged_sample_sentences = tag_sentences(samples)"
   ]
  },
  {
   "cell_type": "code",
   "execution_count": 38,
   "id": "2ad64399",
   "metadata": {},
   "outputs": [
    {
     "name": "stdout",
     "output_type": "stream",
     "text": [
      "[('Brown', 'ADJ'), ('refused', 'VERB'), ('to', 'PRT'), ('testify', 'VERB'), ('.', 'VERB')]\n"
     ]
    }
   ],
   "source": [
    "print(tagged_sample_sentences[0])"
   ]
  },
  {
   "cell_type": "code",
   "execution_count": 39,
   "id": "66e42f57",
   "metadata": {},
   "outputs": [
    {
     "name": "stdout",
     "output_type": "stream",
     "text": [
      "[('Brown', 'ADJ'), ('sofas', 'NOUN'), ('are', 'VERB'), ('on', 'ADP'), ('sale', 'NOUN'), ('.', '.')]\n"
     ]
    }
   ],
   "source": [
    "print(tagged_sample_sentences[1])"
   ]
  },
  {
   "cell_type": "markdown",
   "id": "967139fa",
   "metadata": {},
   "source": [
    "Более сильные теггеры используют больше данных и другие модели, такие как трансформеры."
   ]
  }
 ],
 "metadata": {
  "kernelspec": {
   "display_name": "torch",
   "language": "python",
   "name": "python3"
  },
  "language_info": {
   "codemirror_mode": {
    "name": "ipython",
    "version": 3
   },
   "file_extension": ".py",
   "mimetype": "text/x-python",
   "name": "python",
   "nbconvert_exporter": "python",
   "pygments_lexer": "ipython3",
   "version": "3.12.9"
  }
 },
 "nbformat": 4,
 "nbformat_minor": 5
}

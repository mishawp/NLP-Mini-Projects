{
 "cells": [
  {
   "cell_type": "markdown",
   "id": "55a1a7b5",
   "metadata": {},
   "source": [
    "# Word Vectors"
   ]
  },
  {
   "cell_type": "markdown",
   "id": "7affbf20",
   "metadata": {},
   "source": [
    "## Обзор модуля `gensim.models.keyedvectors`"
   ]
  },
  {
   "cell_type": "markdown",
   "id": "de543247",
   "metadata": {},
   "source": [
    "Будем использовать эмбеддинги 3-ех миллионов слов, размерностью 300, обученные на 3 миллиардах слов из *Google News corpus (circa 2015)*."
   ]
  },
  {
   "cell_type": "code",
   "execution_count": 1,
   "id": "440735ff",
   "metadata": {},
   "outputs": [
    {
     "name": "stdout",
     "output_type": "stream",
     "text": [
      "Skipping already downloaded file GoogleNews-vectors-negative300.bin.gz\n"
     ]
    }
   ],
   "source": [
    "!gdown -c \"https://drive.google.com/uc?id=1rDtnXKem2xAiRgdcPff84R526NMp0q9t\""
   ]
  },
  {
   "cell_type": "code",
   "execution_count": 2,
   "id": "88d45ab6",
   "metadata": {},
   "outputs": [],
   "source": [
    "embedding_file = \"./GoogleNews-vectors-negative300.bin.gz\""
   ]
  },
  {
   "cell_type": "markdown",
   "id": "2cb47472",
   "metadata": {},
   "source": [
    "В библиотеке `gensim` есть модуль `KeyedVectors`, позволяющий нам получать *векторы по токенами и индексам*.\n",
    "\n",
    "Возьмем только 200 000 векторов, чтобы не тратить много времени на обработку и не занимать много памяти"
   ]
  },
  {
   "cell_type": "code",
   "execution_count": 3,
   "id": "0793885a",
   "metadata": {},
   "outputs": [],
   "source": [
    "from gensim.models.keyedvectors import KeyedVectors\n",
    "\n",
    "word_vectors = KeyedVectors.load_word2vec_format(\n",
    "    embedding_file, binary=True, limit=200_000\n",
    ")"
   ]
  },
  {
   "cell_type": "markdown",
   "id": "3775cbab",
   "metadata": {},
   "source": [
    "Пример получения вектора по токену"
   ]
  },
  {
   "cell_type": "code",
   "execution_count": 4,
   "id": "d4479502",
   "metadata": {},
   "outputs": [
    {
     "name": "stdout",
     "output_type": "stream",
     "text": [
      "Размерность вектора: (300,)\n",
      "[-1.25976562e-01  2.53906250e-02  1.66992188e-01  5.50781250e-01\n",
      " -7.66601562e-02  1.28906250e-01  1.02539062e-01 -3.94821167e-04\n",
      "  1.21582031e-01  4.32128906e-02  1.72851562e-01 -6.83593750e-02\n",
      "  3.41796875e-01  8.39843750e-02  6.68945312e-02  2.67578125e-01\n",
      " -3.71093750e-02 -5.56640625e-02  1.80664062e-01  1.90429688e-02\n",
      " -5.07812500e-02  9.03320312e-03  1.76757812e-01  6.49414062e-02\n",
      " -6.25000000e-02 -9.42382812e-02 -9.71679688e-02  4.00390625e-01\n",
      "  1.15234375e-01  1.02539062e-01 -1.86767578e-02 -2.69531250e-01\n",
      "  1.80664062e-01  1.25000000e-01 -3.17382812e-02 -5.49316406e-02\n",
      "  3.45703125e-01 -1.57470703e-02  1.82390213e-05  2.07031250e-01\n",
      " -1.25976562e-01 -2.83203125e-01  2.00195312e-01  8.34960938e-02\n",
      " -4.73632812e-02 -3.11279297e-02 -2.61718750e-01  1.69921875e-01\n",
      " -2.02636719e-02  1.53320312e-01 -1.20605469e-01  3.75000000e-01\n",
      " -5.68847656e-02 -4.76074219e-03 -1.95312500e-01 -2.03125000e-01\n",
      "  3.00781250e-01 -1.01074219e-01 -3.18359375e-01 -9.03320312e-02\n",
      " -1.19140625e-01  1.95312500e-01 -8.78906250e-02  1.58203125e-01\n",
      "  1.51977539e-02 -1.60156250e-01 -3.30078125e-01 -4.66796875e-01\n",
      "  1.68945312e-01  2.23388672e-02  1.55273438e-01  1.08398438e-01\n",
      " -3.56445312e-02  9.13085938e-02 -8.69140625e-02 -1.20117188e-01\n",
      " -3.08593750e-01 -2.61230469e-02 -7.22656250e-02 -4.80468750e-01\n",
      "  3.78417969e-02 -1.35742188e-01 -1.02539062e-01 -2.91015625e-01\n",
      " -1.93359375e-01 -4.21875000e-01 -1.06445312e-01  3.55468750e-01\n",
      "  1.66992188e-01 -3.63159180e-03 -7.42187500e-02 -3.22265625e-01\n",
      " -7.51953125e-02 -8.25195312e-02 -2.91015625e-01 -1.25976562e-01\n",
      "  1.68457031e-02  5.00488281e-02  1.27929688e-01 -7.42187500e-02\n",
      " -1.30859375e-01 -2.46093750e-01  6.49414062e-02  1.53320312e-01\n",
      "  2.59765625e-01 -1.05468750e-01  3.57421875e-01 -4.29687500e-02\n",
      " -1.58203125e-01  8.20312500e-02 -5.98144531e-02 -2.34375000e-01\n",
      " -3.22265625e-01 -1.25976562e-01  5.39550781e-02 -1.87500000e-01\n",
      "  1.35742188e-01 -6.59179688e-02  8.36181641e-03 -1.84570312e-01\n",
      " -2.96875000e-01 -1.84570312e-01 -4.73632812e-02 -1.06445312e-01\n",
      " -6.93359375e-02  3.83300781e-02 -3.19824219e-02  3.63769531e-02\n",
      " -1.20117188e-01  1.76757812e-01 -1.15722656e-01  1.98974609e-02\n",
      "  8.64257812e-02  6.07910156e-02 -1.40625000e-01  3.30078125e-01\n",
      "  1.94335938e-01 -1.56250000e-01  3.92578125e-01  1.80816650e-03\n",
      "  7.27539062e-02 -2.53906250e-01 -3.54003906e-02  2.86865234e-03\n",
      " -1.72851562e-01  9.76562500e-03 -1.55639648e-02  3.23486328e-03\n",
      " -1.69921875e-01  1.55273438e-01  7.17773438e-02  4.10156250e-01\n",
      " -2.10937500e-01  1.31835938e-01  7.62939453e-03  4.78515625e-02\n",
      " -4.54101562e-02  7.32421875e-02 -4.06250000e-01 -2.06298828e-02\n",
      " -4.04296875e-01 -1.00585938e-01 -2.03125000e-01  1.55273438e-01\n",
      " -1.89453125e-01  6.59179688e-02  6.54296875e-02 -2.05078125e-01\n",
      "  5.46875000e-02 -3.06396484e-02 -1.54296875e-01 -2.61718750e-01\n",
      "  3.81469727e-03 -8.20312500e-02 -3.20312500e-01  2.84423828e-02\n",
      "  2.69531250e-01  1.73828125e-01 -1.66992188e-01  2.22656250e-01\n",
      "  6.34765625e-02 -1.96289062e-01  1.45507812e-01 -1.56250000e-02\n",
      "  2.60009766e-02 -6.29882812e-02  2.94189453e-02  3.28125000e-01\n",
      " -4.68750000e-02 -1.52343750e-01  6.98242188e-02  3.18359375e-01\n",
      " -1.08398438e-01  3.66210938e-02 -1.99218750e-01  1.64031982e-03\n",
      "  6.40869141e-03 -1.47460938e-01 -6.25000000e-02 -4.36401367e-03\n",
      " -2.75390625e-01  8.54492188e-02 -5.00488281e-02 -3.12500000e-01\n",
      " -1.33789062e-01 -1.99218750e-01  5.17578125e-02 -9.27734375e-02\n",
      " -2.40234375e-01 -7.86132812e-02 -1.54296875e-01 -6.64062500e-02\n",
      " -1.97265625e-01  1.76757812e-01 -1.57226562e-01 -1.63085938e-01\n",
      "  6.00585938e-02 -5.85937500e-02 -2.22656250e-01 -6.59179688e-02\n",
      " -9.37500000e-02 -4.14062500e-01  2.55859375e-01 -1.76757812e-01\n",
      "  2.51953125e-01  1.48437500e-01 -1.04492188e-01 -8.60595703e-03\n",
      " -1.22558594e-01 -9.22851562e-02  4.41894531e-02 -1.70898438e-01\n",
      " -1.98242188e-01  1.92382812e-01  2.85156250e-01 -4.34570312e-02\n",
      "  1.08398438e-01 -5.37109375e-02 -2.09960938e-02  1.46484375e-01\n",
      "  3.82812500e-01  2.31933594e-02 -8.83789062e-02  7.32421875e-02\n",
      " -1.01074219e-01 -1.06445312e-01  4.12109375e-01  2.10937500e-01\n",
      "  2.79296875e-01 -2.08740234e-02  2.07031250e-01  9.81445312e-02\n",
      "  2.39257812e-01  7.66601562e-02  2.02148438e-01 -6.07910156e-02\n",
      " -2.63977051e-03 -1.83593750e-01 -1.57470703e-02 -3.20312500e-01\n",
      "  9.03320312e-02  1.02050781e-01 -4.96093750e-01 -9.71679688e-02\n",
      " -8.10546875e-02 -1.80664062e-01 -1.45507812e-01  8.64257812e-02\n",
      " -2.04101562e-01 -2.02148438e-01 -5.46875000e-02  2.53906250e-01\n",
      "  2.08740234e-02 -1.15722656e-01  2.02148438e-01 -8.05664062e-02\n",
      " -1.04980469e-01 -7.95898438e-02  1.96533203e-02 -2.49023438e-01\n",
      "  1.30859375e-01  2.89062500e-01 -2.25585938e-01  4.55078125e-01\n",
      " -2.73437500e-01 -2.57812500e-01 -3.14941406e-02  4.04296875e-01\n",
      " -2.67578125e-01  2.89062500e-01 -1.83593750e-01 -1.48437500e-01\n",
      " -1.06933594e-01  1.27929688e-01  5.46875000e-01 -8.69140625e-02\n",
      " -1.48315430e-02  6.98242188e-02 -8.49609375e-02 -1.55273438e-01]\n"
     ]
    }
   ],
   "source": [
    "pizza = word_vectors[\"pizza\"]\n",
    "print(f\"Размерность вектора: {pizza.shape}\")\n",
    "\n",
    "print(pizza)"
   ]
  },
  {
   "cell_type": "markdown",
   "id": "7137727d",
   "metadata": {},
   "source": [
    "Можем посмотреть косинусную схожесть двух векторов.\n",
    "Слова, для которых мы ожидаем большую схожесть..."
   ]
  },
  {
   "cell_type": "code",
   "execution_count": 5,
   "id": "261abcd0",
   "metadata": {},
   "outputs": [
    {
     "name": "stdout",
     "output_type": "stream",
     "text": [
      "0.35505623\n",
      "0.36959887\n",
      "0.4708358\n"
     ]
    }
   ],
   "source": [
    "print(word_vectors.similarity(\"pizza\", \"tomato\"))\n",
    "print(word_vectors.similarity(\"pizza\", \"sauce\"))\n",
    "print(word_vectors.similarity(\"pizza\", \"cheese\"))"
   ]
  },
  {
   "cell_type": "markdown",
   "id": "3b06dfde",
   "metadata": {},
   "source": [
    "...слова, для которых мы не ожидаем схожести"
   ]
  },
  {
   "cell_type": "code",
   "execution_count": 6,
   "id": "a611a9e2",
   "metadata": {},
   "outputs": [
    {
     "name": "stdout",
     "output_type": "stream",
     "text": [
      "0.108518735\n",
      "0.11185602\n",
      "0.14119941\n"
     ]
    }
   ],
   "source": [
    "print(word_vectors.similarity(\"pizza\", \"gorilla\"))\n",
    "print(word_vectors.similarity(\"pizza\", \"tree\"))\n",
    "print(word_vectors.similarity(\"pizza\", \"yoga\"))"
   ]
  },
  {
   "cell_type": "markdown",
   "id": "41491f61",
   "metadata": {},
   "source": [
    "Попытка получить вектор слова, который не входит в наш словарь, приводит к ошибке"
   ]
  },
  {
   "cell_type": "code",
   "execution_count": 7,
   "id": "98182133",
   "metadata": {},
   "outputs": [
    {
     "name": "stdout",
     "output_type": "stream",
     "text": [
      "\"Key 'womblyboo' not present\"\n"
     ]
    }
   ],
   "source": [
    "try:\n",
    "    word_vectors[\"womblyboo\"]\n",
    "except KeyError as e:\n",
    "    print(e)"
   ]
  },
  {
   "cell_type": "markdown",
   "id": "43167849",
   "metadata": {},
   "source": [
    "Мы можем сравнить *схожесть двух предложений* используя `.n_similarity`, который сравнивает схожесть двух наборов слов.\n",
    "\n",
    "Метод принимает списки токенов, усредняет векторы слов в этих предложениях и считает схожесть этих двух усредненных векторов. "
   ]
  },
  {
   "cell_type": "code",
   "execution_count": 8,
   "id": "3dad4f86",
   "metadata": {},
   "outputs": [
    {
     "data": {
      "text/plain": [
       "0.53146607"
      ]
     },
     "execution_count": 8,
     "metadata": {},
     "output_type": "execute_result"
    }
   ],
   "source": [
    "word_vectors.n_similarity(\"dog bites man\".split(), \"canine nips human\".split())"
   ]
  },
  {
   "cell_type": "code",
   "execution_count": 9,
   "id": "1c892993",
   "metadata": {},
   "outputs": [
    {
     "data": {
      "text/plain": [
       "0.1450578"
      ]
     },
     "execution_count": 9,
     "metadata": {},
     "output_type": "execute_result"
    }
   ],
   "source": [
    "word_vectors.n_similarity(\n",
    "    \"martian dolphins are hostile\".split(),\n",
    "    \"i flunked calligraphy school\".split(),\n",
    ")"
   ]
  },
  {
   "cell_type": "markdown",
   "id": "fae3140d",
   "metadata": {},
   "source": [
    "Нужно помнить, что порядок слов в предложении не играют роли, поэтому разные по смыслу предложения, но одинаковые по составу слов, дадут большое значение схожести"
   ]
  },
  {
   "cell_type": "code",
   "execution_count": 10,
   "id": "1ece0e6e",
   "metadata": {},
   "outputs": [
    {
     "data": {
      "text/plain": [
       "1.0"
      ]
     },
     "execution_count": 10,
     "metadata": {},
     "output_type": "execute_result"
    }
   ],
   "source": [
    "word_vectors.n_similarity(\"dog bites man\".split(), \"man bites dog\".split())"
   ]
  },
  {
   "cell_type": "markdown",
   "id": "d2f5d9c3",
   "metadata": {},
   "source": [
    "`.most_similar` возвращает наиболее схожие векторы"
   ]
  },
  {
   "cell_type": "code",
   "execution_count": 11,
   "id": "35d7dbe5",
   "metadata": {},
   "outputs": [
    {
     "data": {
      "text/plain": [
       "[('cells', 0.8180485367774963),\n",
       " ('Cells', 0.6146953105926514),\n",
       " ('Cell', 0.5321314930915833),\n",
       " ('cellular', 0.5272858142852783),\n",
       " ('tumor_cells', 0.5097643136978149),\n",
       " ('ES_cells', 0.4866572618484497),\n",
       " ('immune_cells', 0.4831920266151428),\n",
       " ('epithelial_cells', 0.47818055748939514),\n",
       " ('molecule', 0.47757473587989807),\n",
       " ('proteins', 0.4749472737312317)]"
      ]
     },
     "execution_count": 11,
     "metadata": {},
     "output_type": "execute_result"
    }
   ],
   "source": [
    "word_vectors.most_similar(positive=[\"cell\"], topn=10)"
   ]
  },
  {
   "cell_type": "markdown",
   "id": "c7d7cb3f",
   "metadata": {},
   "source": [
    "Также можно объединить (усреднить) несколько векторов и найти к этому объединенному вектору наиболее схожие."
   ]
  },
  {
   "cell_type": "code",
   "execution_count": 12,
   "id": "7c3778fc",
   "metadata": {},
   "outputs": [
    {
     "data": {
      "text/plain": [
       "[('cell_phone', 0.6861391067504883),\n",
       " ('cellular', 0.6757438778877258),\n",
       " ('cellphone', 0.6633196473121643),\n",
       " ('telephone', 0.6474039554595947),\n",
       " ('Phone', 0.605189323425293),\n",
       " ('phones', 0.5896332859992981),\n",
       " ('cells', 0.585094690322876),\n",
       " ('cordless_phone', 0.5711769461631775),\n",
       " ('Cell', 0.5617641806602478),\n",
       " ('landline', 0.5467296242713928)]"
      ]
     },
     "execution_count": 12,
     "metadata": {},
     "output_type": "execute_result"
    }
   ],
   "source": [
    "word_vectors.most_similar(positive=[\"cell\", \"phone\"], topn=10)"
   ]
  },
  {
   "cell_type": "markdown",
   "id": "c63c24a6",
   "metadata": {},
   "source": [
    "`.doesnt_match` находит слова из переданного списка, которое дальше всего стоит от среднего векторов этих слов"
   ]
  },
  {
   "cell_type": "code",
   "execution_count": 13,
   "id": "0a81c58e",
   "metadata": {},
   "outputs": [
    {
     "data": {
      "text/plain": [
       "'hamburger'"
      ]
     },
     "execution_count": 13,
     "metadata": {},
     "output_type": "execute_result"
    }
   ],
   "source": [
    "word_vectors.doesnt_match([\"apple\", \"orange\", \"hamburger\", \"banana\", \"kiwi\"])"
   ]
  },
  {
   "cell_type": "markdown",
   "id": "16da6de8",
   "metadata": {},
   "source": [
    "Можно убедиться в силе контекста, посмотрев на следующий пример, где, очевидно \"Toyota\" является лишним"
   ]
  },
  {
   "cell_type": "code",
   "execution_count": 14,
   "id": "b7671d79",
   "metadata": {},
   "outputs": [
    {
     "data": {
      "text/plain": [
       "'Toyota'"
      ]
     },
     "execution_count": 14,
     "metadata": {},
     "output_type": "execute_result"
    }
   ],
   "source": [
    "word_vectors.doesnt_match(\n",
    "    [\"Microsoft\", \"Apple\", \"Toyota\", \"Amazon\", \"Netflix\", \"Google\"]\n",
    ")"
   ]
  },
  {
   "cell_type": "markdown",
   "id": "ed821451",
   "metadata": {},
   "source": [
    "## Визуализация эмбеддингов"
   ]
  },
  {
   "cell_type": "markdown",
   "id": "eaffb31b",
   "metadata": {},
   "source": [
    "Можно визуализировать векторы слов, но сначала их нужно перевести в двухмерное пространство. Это можно сделать с помощью *Метода главных компонент (Principal Components Analysis) PCA*."
   ]
  },
  {
   "cell_type": "code",
   "execution_count": 15,
   "id": "4888b655",
   "metadata": {},
   "outputs": [],
   "source": [
    "import numpy as np\n",
    "import matplotlib.pyplot as plt\n",
    "from sklearn.decomposition import PCA\n",
    "\n",
    "\n",
    "def display_pca_scatterplot(model, words):\n",
    "    word_vectors = np.array([model[w] for w in words])\n",
    "\n",
    "    twodim = PCA().fit_transform(word_vectors)[:, :2]\n",
    "\n",
    "    plt.figure(figsize=(10, 10))\n",
    "    plt.scatter(twodim[:, 0], twodim[:, 1], edgecolors=\"k\", c=\"r\", s=128)\n",
    "    for word, (x, y) in zip(words, twodim):\n",
    "        plt.text(x + 0.05, y + 0.05, word)"
   ]
  },
  {
   "cell_type": "code",
   "execution_count": 16,
   "id": "f73cb411",
   "metadata": {},
   "outputs": [
    {
     "data": {
      "image/png": "[encoded data removed]",
      "text/plain": [
       "<Figure size 1000x1000 with 1 Axes>"
      ]
     },
     "metadata": {},
     "output_type": "display_data"
    }
   ],
   "source": [
    "display_pca_scatterplot(\n",
    "    word_vectors,\n",
    "    [\"swim\", \"swimming\", \"cat\", \"dog\", \"feline\", \"road\", \"car\", \"bus\"],\n",
    ")"
   ]
  },
  {
   "cell_type": "markdown",
   "id": "ce339aa1",
   "metadata": {},
   "source": [
    "## Векторные операции\n",
    "\n",
    "Можно также проводить векторные операции с эмбеддингами.\n",
    "\n",
    "Например:\n",
    "\n",
    "*Rome is to Italy as London is to ___*\n",
    "\n",
    "Получается, что \n",
    "$$\\begin{align*}\n",
    "Italy - Rome = XXX - London \\\\\n",
    "XXX = Italy + London - Rome\n",
    "\\end{align*}\n",
    "$$"
   ]
  },
  {
   "cell_type": "code",
   "execution_count": 17,
   "id": "30adf9e9",
   "metadata": {},
   "outputs": [
    {
     "data": {
      "text/plain": [
       "[('UK', 0.6230568885803223),\n",
       " ('Britain', 0.6016390323638916),\n",
       " ('United_Kingdom', 0.534345805644989)]"
      ]
     },
     "execution_count": 17,
     "metadata": {},
     "output_type": "execute_result"
    }
   ],
   "source": [
    "word_vectors.most_similar(\n",
    "    positive=[\"Italy\", \"London\"], negative=[\"Rome\"], topn=3\n",
    ")"
   ]
  },
  {
   "cell_type": "code",
   "execution_count": 18,
   "id": "84ea734f",
   "metadata": {},
   "outputs": [
    {
     "data": {
      "image/png": "[encoded data removed]",
      "text/plain": [
       "<Figure size 1000x1000 with 1 Axes>"
      ]
     },
     "metadata": {},
     "output_type": "display_data"
    }
   ],
   "source": [
    "display_pca_scatterplot(\n",
    "    word_vectors, [\"Rome\", \"Italy\", \"London\", \"Britain\", \"UK\"]\n",
    ")"
   ]
  }
 ],
 "metadata": {
  "kernelspec": {
   "display_name": "torch",
   "language": "python",
   "name": "python3"
  },
  "language_info": {
   "codemirror_mode": {
    "name": "ipython",
    "version": 3
   },
   "file_extension": ".py",
   "mimetype": "text/x-python",
   "name": "python",
   "nbconvert_exporter": "python",
   "pygments_lexer": "ipython3",
   "version": "3.12.9"
  }
 },
 "nbformat": 4,
 "nbformat_minor": 5
}

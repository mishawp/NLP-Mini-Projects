{
 "cells": [
  {
   "cell_type": "markdown",
   "id": "59ba16d1",
   "metadata": {},
   "source": [
    "# Анализ тональности текста"
   ]
  },
  {
   "cell_type": "markdown",
   "id": "c8803e47",
   "metadata": {},
   "source": [
    "Мы обучим модель для классификации текстов на *положительные* и *отрицательные* отзывы, используя предобученные *векторы слов*."
   ]
  },
  {
   "cell_type": "code",
   "execution_count": 1,
   "id": "ab448ecb",
   "metadata": {},
   "outputs": [],
   "source": [
    "import re\n",
    "import torch\n",
    "import numpy as np\n",
    "import pandas as pd\n",
    "import torch.nn as nn\n",
    "import torch.optim as optim\n",
    "import torch.utils.data as data\n",
    "import matplotlib.pyplot as plt\n",
    "from gensim.models.keyedvectors import KeyedVectors\n",
    "from sklearn.model_selection import train_test_split\n",
    "from sklearn.feature_extraction.text import CountVectorizer\n",
    "from sklearn.metrics import accuracy_score\n",
    "from tqdm import tqdm\n",
    "from collections import Counter\n"
   ]
  },
  {
   "cell_type": "markdown",
   "id": "d88da043",
   "metadata": {},
   "source": [
    "## Embeddings\n",
    "\n",
    "Будем использовать эмбеддинги 3-ех миллионов слов, размерностью 300, обученные на 3 миллиардах слов из *Google News corpus (circa 2015)*."
   ]
  },
  {
   "cell_type": "code",
   "execution_count": 2,
   "id": "c76338b2",
   "metadata": {},
   "outputs": [
    {
     "name": "stdout",
     "output_type": "stream",
     "text": [
      "Skipping already downloaded file GoogleNews-vectors-negative300.bin.gz\n"
     ]
    }
   ],
   "source": [
    "!gdown -c \"https://drive.google.com/uc?id=17Vf3ucDBnHMarELN_yYaRu0lHXdulGTZ\""
   ]
  },
  {
   "cell_type": "code",
   "execution_count": 3,
   "id": "b5d2dfbb",
   "metadata": {},
   "outputs": [],
   "source": [
    "embedding_file = \"./GoogleNews-vectors-negative300.bin.gz\""
   ]
  },
  {
   "cell_type": "code",
   "execution_count": 4,
   "id": "d88b93fc",
   "metadata": {},
   "outputs": [],
   "source": [
    "word_vectors = KeyedVectors.load_word2vec_format(\n",
    "    embedding_file, binary=True, limit=1_000_000\n",
    ")"
   ]
  },
  {
   "cell_type": "markdown",
   "id": "cf5a4fef",
   "metadata": {},
   "source": [
    "## Датасет\n",
    "\n",
    "**Yelp Polarity Reviews** - датасет из ~600 000 отзывов.\n",
    "\n",
    "Оригинальные отзывы имеют оценку от *1 до 5* звезд. Но мы будем использовать только бинарную оценку *(negative if label==1 and positive if label==2)."
   ]
  },
  {
   "cell_type": "code",
   "execution_count": 5,
   "id": "46c17278",
   "metadata": {},
   "outputs": [
    {
     "name": "stdout",
     "output_type": "stream",
     "text": [
      "--2025-10-15 18:42:25--  https://s3.amazonaws.com/fast-ai-nlp/yelp_review_polarity_csv.tgz\n",
      "Resolving s3.amazonaws.com (s3.amazonaws.com)... 54.231.166.40, 16.182.36.192, 52.217.9.158, ...\n",
      "Connecting to s3.amazonaws.com (s3.amazonaws.com)|54.231.166.40|:443... connected.\n",
      "HTTP request sent, awaiting response... 416 Requested Range Not Satisfiable\n",
      "\n",
      "    The file is already fully retrieved; nothing to do.\n",
      "\n"
     ]
    }
   ],
   "source": [
    "!wget -c \"https://s3.amazonaws.com/fast-ai-nlp/yelp_review_polarity_csv.tgz\""
   ]
  },
  {
   "cell_type": "code",
   "execution_count": 6,
   "id": "2d49d880",
   "metadata": {},
   "outputs": [],
   "source": [
    "# !tar xvzf yelp_review_polarity_csv.tgz"
   ]
  },
  {
   "cell_type": "code",
   "execution_count": 7,
   "id": "dde666cb",
   "metadata": {},
   "outputs": [],
   "source": [
    "yelp_train = pd.read_csv(\n",
    "    \"yelp_review_polarity_csv/train.csv\", names=[\"sentiment\", \"review\"]\n",
    ")"
   ]
  },
  {
   "cell_type": "code",
   "execution_count": 8,
   "id": "3db9ead4",
   "metadata": {},
   "outputs": [
    {
     "data": {
      "text/html": [
       "<div>\n",
       "<style scoped>\n",
       "    .dataframe tbody tr th:only-of-type {\n",
       "        vertical-align: middle;\n",
       "    }\n",
       "\n",
       "    .dataframe tbody tr th {\n",
       "        vertical-align: top;\n",
       "    }\n",
       "\n",
       "    .dataframe thead th {\n",
       "        text-align: right;\n",
       "    }\n",
       "</style>\n",
       "<table border=\"1\" class=\"dataframe\">\n",
       "  <thead>\n",
       "    <tr style=\"text-align: right;\">\n",
       "      <th></th>\n",
       "      <th>sentiment</th>\n",
       "      <th>review</th>\n",
       "    </tr>\n",
       "  </thead>\n",
       "  <tbody>\n",
       "    <tr>\n",
       "      <th>0</th>\n",
       "      <td>1</td>\n",
       "      <td>Unfortunately, the frustration of being Dr. Go...</td>\n",
       "    </tr>\n",
       "    <tr>\n",
       "      <th>1</th>\n",
       "      <td>2</td>\n",
       "      <td>Been going to Dr. Goldberg for over 10 years. ...</td>\n",
       "    </tr>\n",
       "    <tr>\n",
       "      <th>2</th>\n",
       "      <td>1</td>\n",
       "      <td>I don't know what Dr. Goldberg was like before...</td>\n",
       "    </tr>\n",
       "    <tr>\n",
       "      <th>3</th>\n",
       "      <td>1</td>\n",
       "      <td>I'm writing this review to give you a heads up...</td>\n",
       "    </tr>\n",
       "    <tr>\n",
       "      <th>4</th>\n",
       "      <td>2</td>\n",
       "      <td>All the food is great here. But the best thing...</td>\n",
       "    </tr>\n",
       "  </tbody>\n",
       "</table>\n",
       "</div>"
      ],
      "text/plain": [
       "   sentiment                                             review\n",
       "0          1  Unfortunately, the frustration of being Dr. Go...\n",
       "1          2  Been going to Dr. Goldberg for over 10 years. ...\n",
       "2          1  I don't know what Dr. Goldberg was like before...\n",
       "3          1  I'm writing this review to give you a heads up...\n",
       "4          2  All the food is great here. But the best thing..."
      ]
     },
     "execution_count": 8,
     "metadata": {},
     "output_type": "execute_result"
    }
   ],
   "source": [
    "yelp_train.head()"
   ]
  },
  {
   "cell_type": "markdown",
   "id": "f19e370c",
   "metadata": {},
   "source": [
    "Для ускорения обучения возьмем только 100 000 отзывов, предварительно перемещав их, на всякий случай, если исходный датасет каким-либо образом отсортирован"
   ]
  },
  {
   "cell_type": "code",
   "execution_count": 9,
   "id": "d42f85ac",
   "metadata": {},
   "outputs": [
    {
     "name": "stdout",
     "output_type": "stream",
     "text": [
      "(100000, 2)\n"
     ]
    }
   ],
   "source": [
    "TRAIN_SIZE = 100000\n",
    "yelp_train = yelp_train.sample(n=TRAIN_SIZE, random_state=1, ignore_index=True)\n",
    "print(yelp_train.shape)"
   ]
  },
  {
   "cell_type": "markdown",
   "id": "ab0b6771",
   "metadata": {},
   "source": [
    "У нас задача бинарной классификации, поэтому переведем метки в значения 0 и 1 (вместо 1 и 2)."
   ]
  },
  {
   "cell_type": "code",
   "execution_count": 10,
   "id": "c0ba22a7",
   "metadata": {},
   "outputs": [],
   "source": [
    "yelp_train.replace(to_replace={\"sentiment\": {1: 0, 2: 1}}, inplace=True)"
   ]
  },
  {
   "cell_type": "code",
   "execution_count": 11,
   "id": "5a1de1fc",
   "metadata": {},
   "outputs": [
    {
     "data": {
      "text/html": [
       "<div>\n",
       "<style scoped>\n",
       "    .dataframe tbody tr th:only-of-type {\n",
       "        vertical-align: middle;\n",
       "    }\n",
       "\n",
       "    .dataframe tbody tr th {\n",
       "        vertical-align: top;\n",
       "    }\n",
       "\n",
       "    .dataframe thead th {\n",
       "        text-align: right;\n",
       "    }\n",
       "</style>\n",
       "<table border=\"1\" class=\"dataframe\">\n",
       "  <thead>\n",
       "    <tr style=\"text-align: right;\">\n",
       "      <th></th>\n",
       "      <th>sentiment</th>\n",
       "      <th>review</th>\n",
       "    </tr>\n",
       "  </thead>\n",
       "  <tbody>\n",
       "    <tr>\n",
       "      <th>0</th>\n",
       "      <td>1</td>\n",
       "      <td>omg, the grandma g's pizza with rosemary chick...</td>\n",
       "    </tr>\n",
       "    <tr>\n",
       "      <th>1</th>\n",
       "      <td>0</td>\n",
       "      <td>Microwaved food over over over seasoned gyro m...</td>\n",
       "    </tr>\n",
       "    <tr>\n",
       "      <th>2</th>\n",
       "      <td>0</td>\n",
       "      <td>While the food is good, the service leaves a l...</td>\n",
       "    </tr>\n",
       "    <tr>\n",
       "      <th>3</th>\n",
       "      <td>0</td>\n",
       "      <td>Called the Chandler PD about the sign spinner ...</td>\n",
       "    </tr>\n",
       "    <tr>\n",
       "      <th>4</th>\n",
       "      <td>1</td>\n",
       "      <td>Just took Ewok, my approx. 6 month old shih tz...</td>\n",
       "    </tr>\n",
       "  </tbody>\n",
       "</table>\n",
       "</div>"
      ],
      "text/plain": [
       "   sentiment                                             review\n",
       "0          1  omg, the grandma g's pizza with rosemary chick...\n",
       "1          0  Microwaved food over over over seasoned gyro m...\n",
       "2          0  While the food is good, the service leaves a l...\n",
       "3          0  Called the Chandler PD about the sign spinner ...\n",
       "4          1  Just took Ewok, my approx. 6 month old shih tz..."
      ]
     },
     "execution_count": 11,
     "metadata": {},
     "output_type": "execute_result"
    }
   ],
   "source": [
    "yelp_train.head()"
   ]
  },
  {
   "cell_type": "markdown",
   "id": "6e42ff17",
   "metadata": {},
   "source": [
    "## Train-validation split"
   ]
  },
  {
   "cell_type": "code",
   "execution_count": 12,
   "id": "d9dc6427",
   "metadata": {},
   "outputs": [],
   "source": [
    "train_reviews, val_reviews, y_train, y_val = train_test_split(\n",
    "    yelp_train[\"review\"],\n",
    "    yelp_train[\"sentiment\"],\n",
    "    train_size=0.85,\n",
    "    random_state=1,\n",
    ")"
   ]
  },
  {
   "cell_type": "markdown",
   "id": "cca186c5",
   "metadata": {},
   "source": [
    "Посмотрим, сбалансированы ли классы в тренировочной выборке"
   ]
  },
  {
   "cell_type": "code",
   "execution_count": 13,
   "id": "f323942d",
   "metadata": {},
   "outputs": [
    {
     "data": {
      "text/plain": [
       "Counter({1: 42605, 0: 42395})"
      ]
     },
     "execution_count": 13,
     "metadata": {},
     "output_type": "execute_result"
    }
   ],
   "source": [
    "Counter(y_train)"
   ]
  },
  {
   "cell_type": "markdown",
   "id": "99eb8d55",
   "metadata": {},
   "source": [
    "## Токенизация\n",
    "\n",
    "- Оставляем только слова;\n",
    "- Отбираем топ 20 000 самых частых слов.\n",
    "\n",
    "Отбор топ-20 000 — это способ отсечь шумные и слишком редкие слова, уменьшить размерность и ускорить обучение. В большинстве датасетов отзывов 20 000 слов хватает, чтобы покрыть подавляющее большинство текста (частотное распределение слов следует закону Ципфа: относительно мало слов встречаются очень часто).\n",
    "\n",
    "Создадим класс, унаследованный от `sklearn.feature_extraction.text. CountVectorizer`, для отбора *топ 20 000* слов. Дополним словарями для получения *индексов по словам* и *слов по индексам*"
   ]
  },
  {
   "cell_type": "code",
   "execution_count": 14,
   "id": "b6cbc60e",
   "metadata": {},
   "outputs": [],
   "source": [
    "class Tokenizer(CountVectorizer):\n",
    "    def __init__(\n",
    "        self,\n",
    "        *,\n",
    "        lowercase=False,\n",
    "        tokenizer=None,\n",
    "        token_pattern=None,\n",
    "        max_features=None,\n",
    "    ):\n",
    "        super().__init__(\n",
    "            tokenizer=tokenizer,\n",
    "            token_pattern=token_pattern,\n",
    "            lowercase=lowercase,\n",
    "            max_features=max_features,\n",
    "        )\n",
    "\n",
    "    def fit(self, raw_documents, y=None):\n",
    "        super().fit(raw_documents)\n",
    "        # sklearn хранит словарь слово -> id\n",
    "        sorted_vocab = sorted(self.vocabulary_.items(), key=lambda x: x[1])\n",
    "        # начинаем индексацию с 1\n",
    "        self.word_index = {\n",
    "            word: idx + 1 for idx, (word, _) in enumerate(sorted_vocab)\n",
    "        }\n",
    "        self.index_word = {idx: word for word, idx in self.word_index.items()}\n",
    "        return self\n",
    "\n",
    "    def texts_to_sequences(self, texts: list[str]) -> list[list[int]]:\n",
    "        sequences = []\n",
    "        for text in texts:\n",
    "            tokens = self.tokenizer(text)\n",
    "            seq = []\n",
    "            for tok in tokens:\n",
    "                idx = self.word_index.get(tok)\n",
    "                if idx is not None:\n",
    "                    seq.append(idx)\n",
    "            sequences.append(seq)\n",
    "        return sequences\n",
    "\n",
    "    def sequences_to_texts(self, sequences: list[list[int]]) -> list[str]:\n",
    "        texts = []\n",
    "        for seq in sequences:\n",
    "            tokens = [self.index_word.get(i, \"\") for i in seq]\n",
    "            texts.append(\" \".join(tokens))\n",
    "        return texts\n",
    "\n",
    "\n",
    "def simple_tokenizer(text):\n",
    "    # удаляем цифры и пунктуацию, оставляем только буквы\n",
    "    text = re.sub(r\"[^a-zA-Zа-яА-ЯёЁ]\", \" \", text)\n",
    "    text = text.lower()\n",
    "    tokens = text.split()\n",
    "    return tokens\n",
    "\n",
    "\n",
    "tokenizer = Tokenizer(\n",
    "    tokenizer=simple_tokenizer,\n",
    "    lowercase=False,\n",
    "    max_features=20000,\n",
    "    token_pattern=None,\n",
    ")"
   ]
  },
  {
   "cell_type": "code",
   "execution_count": 15,
   "id": "99ab47af",
   "metadata": {},
   "outputs": [
    {
     "data": {
      "text/html": [
       "<style>#sk-container-id-1 {\n",
       "  /* Definition of color scheme common for light and dark mode */\n",
       "  --sklearn-color-text: #000;\n",
       "  --sklearn-color-text-muted: #666;\n",
       "  --sklearn-color-line: gray;\n",
       "  /* Definition of color scheme for unfitted estimators */\n",
       "  --sklearn-color-unfitted-level-0: #fff5e6;\n",
       "  --sklearn-color-unfitted-level-1: #f6e4d2;\n",
       "  --sklearn-color-unfitted-level-2: #ffe0b3;\n",
       "  --sklearn-color-unfitted-level-3: chocolate;\n",
       "  /* Definition of color scheme for fitted estimators */\n",
       "  --sklearn-color-fitted-level-0: #f0f8ff;\n",
       "  --sklearn-color-fitted-level-1: #d4ebff;\n",
       "  --sklearn-color-fitted-level-2: #b3dbfd;\n",
       "  --sklearn-color-fitted-level-3: cornflowerblue;\n",
       "\n",
       "  /* Specific color for light theme */\n",
       "  --sklearn-color-text-on-default-background: var(--sg-text-color, var(--theme-code-foreground, var(--jp-content-font-color1, black)));\n",
       "  --sklearn-color-background: var(--sg-background-color, var(--theme-background, var(--jp-layout-color0, white)));\n",
       "  --sklearn-color-border-box: var(--sg-text-color, var(--theme-code-foreground, var(--jp-content-font-color1, black)));\n",
       "  --sklearn-color-icon: #696969;\n",
       "\n",
       "  @media (prefers-color-scheme: dark) {\n",
       "    /* Redefinition of color scheme for dark theme */\n",
       "    --sklearn-color-text-on-default-background: var(--sg-text-color, var(--theme-code-foreground, var(--jp-content-font-color1, white)));\n",
       "    --sklearn-color-background: var(--sg-background-color, var(--theme-background, var(--jp-layout-color0, #111)));\n",
       "    --sklearn-color-border-box: var(--sg-text-color, var(--theme-code-foreground, var(--jp-content-font-color1, white)));\n",
       "    --sklearn-color-icon: #878787;\n",
       "  }\n",
       "}\n",
       "\n",
       "#sk-container-id-1 {\n",
       "  color: var(--sklearn-color-text);\n",
       "}\n",
       "\n",
       "#sk-container-id-1 pre {\n",
       "  padding: 0;\n",
       "}\n",
       "\n",
       "#sk-container-id-1 input.sk-hidden--visually {\n",
       "  border: 0;\n",
       "  clip: rect(1px 1px 1px 1px);\n",
       "  clip: rect(1px, 1px, 1px, 1px);\n",
       "  height: 1px;\n",
       "  margin: -1px;\n",
       "  overflow: hidden;\n",
       "  padding: 0;\n",
       "  position: absolute;\n",
       "  width: 1px;\n",
       "}\n",
       "\n",
       "#sk-container-id-1 div.sk-dashed-wrapped {\n",
       "  border: 1px dashed var(--sklearn-color-line);\n",
       "  margin: 0 0.4em 0.5em 0.4em;\n",
       "  box-sizing: border-box;\n",
       "  padding-bottom: 0.4em;\n",
       "  background-color: var(--sklearn-color-background);\n",
       "}\n",
       "\n",
       "#sk-container-id-1 div.sk-container {\n",
       "  /* jupyter's `normalize.less` sets `[hidden] { display: none; }`\n",
       "     but bootstrap.min.css set `[hidden] { display: none !important; }`\n",
       "     so we also need the `!important` here to be able to override the\n",
       "     default hidden behavior on the sphinx rendered scikit-learn.org.\n",
       "     See: https://github.com/scikit-learn/scikit-learn/issues/21755 */\n",
       "  display: inline-block !important;\n",
       "  position: relative;\n",
       "}\n",
       "\n",
       "#sk-container-id-1 div.sk-text-repr-fallback {\n",
       "  display: none;\n",
       "}\n",
       "\n",
       "div.sk-parallel-item,\n",
       "div.sk-serial,\n",
       "div.sk-item {\n",
       "  /* draw centered vertical line to link estimators */\n",
       "  background-image: linear-gradient(var(--sklearn-color-text-on-default-background), var(--sklearn-color-text-on-default-background));\n",
       "  background-size: 2px 100%;\n",
       "  background-repeat: no-repeat;\n",
       "  background-position: center center;\n",
       "}\n",
       "\n",
       "/* Parallel-specific style estimator block */\n",
       "\n",
       "#sk-container-id-1 div.sk-parallel-item::after {\n",
       "  content: \"\";\n",
       "  width: 100%;\n",
       "  border-bottom: 2px solid var(--sklearn-color-text-on-default-background);\n",
       "  flex-grow: 1;\n",
       "}\n",
       "\n",
       "#sk-container-id-1 div.sk-parallel {\n",
       "  display: flex;\n",
       "  align-items: stretch;\n",
       "  justify-content: center;\n",
       "  background-color: var(--sklearn-color-background);\n",
       "  position: relative;\n",
       "}\n",
       "\n",
       "#sk-container-id-1 div.sk-parallel-item {\n",
       "  display: flex;\n",
       "  flex-direction: column;\n",
       "}\n",
       "\n",
       "#sk-container-id-1 div.sk-parallel-item:first-child::after {\n",
       "  align-self: flex-end;\n",
       "  width: 50%;\n",
       "}\n",
       "\n",
       "#sk-container-id-1 div.sk-parallel-item:last-child::after {\n",
       "  align-self: flex-start;\n",
       "  width: 50%;\n",
       "}\n",
       "\n",
       "#sk-container-id-1 div.sk-parallel-item:only-child::after {\n",
       "  width: 0;\n",
       "}\n",
       "\n",
       "/* Serial-specific style estimator block */\n",
       "\n",
       "#sk-container-id-1 div.sk-serial {\n",
       "  display: flex;\n",
       "  flex-direction: column;\n",
       "  align-items: center;\n",
       "  background-color: var(--sklearn-color-background);\n",
       "  padding-right: 1em;\n",
       "  padding-left: 1em;\n",
       "}\n",
       "\n",
       "\n",
       "/* Toggleable style: style used for estimator/Pipeline/ColumnTransformer box that is\n",
       "clickable and can be expanded/collapsed.\n",
       "- Pipeline and ColumnTransformer use this feature and define the default style\n",
       "- Estimators will overwrite some part of the style using the `sk-estimator` class\n",
       "*/\n",
       "\n",
       "/* Pipeline and ColumnTransformer style (default) */\n",
       "\n",
       "#sk-container-id-1 div.sk-toggleable {\n",
       "  /* Default theme specific background. It is overwritten whether we have a\n",
       "  specific estimator or a Pipeline/ColumnTransformer */\n",
       "  background-color: var(--sklearn-color-background);\n",
       "}\n",
       "\n",
       "/* Toggleable label */\n",
       "#sk-container-id-1 label.sk-toggleable__label {\n",
       "  cursor: pointer;\n",
       "  display: flex;\n",
       "  width: 100%;\n",
       "  margin-bottom: 0;\n",
       "  padding: 0.5em;\n",
       "  box-sizing: border-box;\n",
       "  text-align: center;\n",
       "  align-items: start;\n",
       "  justify-content: space-between;\n",
       "  gap: 0.5em;\n",
       "}\n",
       "\n",
       "#sk-container-id-1 label.sk-toggleable__label .caption {\n",
       "  font-size: 0.6rem;\n",
       "  font-weight: lighter;\n",
       "  color: var(--sklearn-color-text-muted);\n",
       "}\n",
       "\n",
       "#sk-container-id-1 label.sk-toggleable__label-arrow:before {\n",
       "  /* Arrow on the left of the label */\n",
       "  content: \"▸\";\n",
       "  float: left;\n",
       "  margin-right: 0.25em;\n",
       "  color: var(--sklearn-color-icon);\n",
       "}\n",
       "\n",
       "#sk-container-id-1 label.sk-toggleable__label-arrow:hover:before {\n",
       "  color: var(--sklearn-color-text);\n",
       "}\n",
       "\n",
       "/* Toggleable content - dropdown */\n",
       "\n",
       "#sk-container-id-1 div.sk-toggleable__content {\n",
       "  display: none;\n",
       "  text-align: left;\n",
       "  /* unfitted */\n",
       "  background-color: var(--sklearn-color-unfitted-level-0);\n",
       "}\n",
       "\n",
       "#sk-container-id-1 div.sk-toggleable__content.fitted {\n",
       "  /* fitted */\n",
       "  background-color: var(--sklearn-color-fitted-level-0);\n",
       "}\n",
       "\n",
       "#sk-container-id-1 div.sk-toggleable__content pre {\n",
       "  margin: 0.2em;\n",
       "  border-radius: 0.25em;\n",
       "  color: var(--sklearn-color-text);\n",
       "  /* unfitted */\n",
       "  background-color: var(--sklearn-color-unfitted-level-0);\n",
       "}\n",
       "\n",
       "#sk-container-id-1 div.sk-toggleable__content.fitted pre {\n",
       "  /* unfitted */\n",
       "  background-color: var(--sklearn-color-fitted-level-0);\n",
       "}\n",
       "\n",
       "#sk-container-id-1 input.sk-toggleable__control:checked~div.sk-toggleable__content {\n",
       "  /* Expand drop-down */\n",
       "  display: block;\n",
       "  width: 100%;\n",
       "  overflow: visible;\n",
       "}\n",
       "\n",
       "#sk-container-id-1 input.sk-toggleable__control:checked~label.sk-toggleable__label-arrow:before {\n",
       "  content: \"▾\";\n",
       "}\n",
       "\n",
       "/* Pipeline/ColumnTransformer-specific style */\n",
       "\n",
       "#sk-container-id-1 div.sk-label input.sk-toggleable__control:checked~label.sk-toggleable__label {\n",
       "  color: var(--sklearn-color-text);\n",
       "  background-color: var(--sklearn-color-unfitted-level-2);\n",
       "}\n",
       "\n",
       "#sk-container-id-1 div.sk-label.fitted input.sk-toggleable__control:checked~label.sk-toggleable__label {\n",
       "  background-color: var(--sklearn-color-fitted-level-2);\n",
       "}\n",
       "\n",
       "/* Estimator-specific style */\n",
       "\n",
       "/* Colorize estimator box */\n",
       "#sk-container-id-1 div.sk-estimator input.sk-toggleable__control:checked~label.sk-toggleable__label {\n",
       "  /* unfitted */\n",
       "  background-color: var(--sklearn-color-unfitted-level-2);\n",
       "}\n",
       "\n",
       "#sk-container-id-1 div.sk-estimator.fitted input.sk-toggleable__control:checked~label.sk-toggleable__label {\n",
       "  /* fitted */\n",
       "  background-color: var(--sklearn-color-fitted-level-2);\n",
       "}\n",
       "\n",
       "#sk-container-id-1 div.sk-label label.sk-toggleable__label,\n",
       "#sk-container-id-1 div.sk-label label {\n",
       "  /* The background is the default theme color */\n",
       "  color: var(--sklearn-color-text-on-default-background);\n",
       "}\n",
       "\n",
       "/* On hover, darken the color of the background */\n",
       "#sk-container-id-1 div.sk-label:hover label.sk-toggleable__label {\n",
       "  color: var(--sklearn-color-text);\n",
       "  background-color: var(--sklearn-color-unfitted-level-2);\n",
       "}\n",
       "\n",
       "/* Label box, darken color on hover, fitted */\n",
       "#sk-container-id-1 div.sk-label.fitted:hover label.sk-toggleable__label.fitted {\n",
       "  color: var(--sklearn-color-text);\n",
       "  background-color: var(--sklearn-color-fitted-level-2);\n",
       "}\n",
       "\n",
       "/* Estimator label */\n",
       "\n",
       "#sk-container-id-1 div.sk-label label {\n",
       "  font-family: monospace;\n",
       "  font-weight: bold;\n",
       "  display: inline-block;\n",
       "  line-height: 1.2em;\n",
       "}\n",
       "\n",
       "#sk-container-id-1 div.sk-label-container {\n",
       "  text-align: center;\n",
       "}\n",
       "\n",
       "/* Estimator-specific */\n",
       "#sk-container-id-1 div.sk-estimator {\n",
       "  font-family: monospace;\n",
       "  border: 1px dotted var(--sklearn-color-border-box);\n",
       "  border-radius: 0.25em;\n",
       "  box-sizing: border-box;\n",
       "  margin-bottom: 0.5em;\n",
       "  /* unfitted */\n",
       "  background-color: var(--sklearn-color-unfitted-level-0);\n",
       "}\n",
       "\n",
       "#sk-container-id-1 div.sk-estimator.fitted {\n",
       "  /* fitted */\n",
       "  background-color: var(--sklearn-color-fitted-level-0);\n",
       "}\n",
       "\n",
       "/* on hover */\n",
       "#sk-container-id-1 div.sk-estimator:hover {\n",
       "  /* unfitted */\n",
       "  background-color: var(--sklearn-color-unfitted-level-2);\n",
       "}\n",
       "\n",
       "#sk-container-id-1 div.sk-estimator.fitted:hover {\n",
       "  /* fitted */\n",
       "  background-color: var(--sklearn-color-fitted-level-2);\n",
       "}\n",
       "\n",
       "/* Specification for estimator info (e.g. \"i\" and \"?\") */\n",
       "\n",
       "/* Common style for \"i\" and \"?\" */\n",
       "\n",
       ".sk-estimator-doc-link,\n",
       "a:link.sk-estimator-doc-link,\n",
       "a:visited.sk-estimator-doc-link {\n",
       "  float: right;\n",
       "  font-size: smaller;\n",
       "  line-height: 1em;\n",
       "  font-family: monospace;\n",
       "  background-color: var(--sklearn-color-background);\n",
       "  border-radius: 1em;\n",
       "  height: 1em;\n",
       "  width: 1em;\n",
       "  text-decoration: none !important;\n",
       "  margin-left: 0.5em;\n",
       "  text-align: center;\n",
       "  /* unfitted */\n",
       "  border: var(--sklearn-color-unfitted-level-1) 1pt solid;\n",
       "  color: var(--sklearn-color-unfitted-level-1);\n",
       "}\n",
       "\n",
       ".sk-estimator-doc-link.fitted,\n",
       "a:link.sk-estimator-doc-link.fitted,\n",
       "a:visited.sk-estimator-doc-link.fitted {\n",
       "  /* fitted */\n",
       "  border: var(--sklearn-color-fitted-level-1) 1pt solid;\n",
       "  color: var(--sklearn-color-fitted-level-1);\n",
       "}\n",
       "\n",
       "/* On hover */\n",
       "div.sk-estimator:hover .sk-estimator-doc-link:hover,\n",
       ".sk-estimator-doc-link:hover,\n",
       "div.sk-label-container:hover .sk-estimator-doc-link:hover,\n",
       ".sk-estimator-doc-link:hover {\n",
       "  /* unfitted */\n",
       "  background-color: var(--sklearn-color-unfitted-level-3);\n",
       "  color: var(--sklearn-color-background);\n",
       "  text-decoration: none;\n",
       "}\n",
       "\n",
       "div.sk-estimator.fitted:hover .sk-estimator-doc-link.fitted:hover,\n",
       ".sk-estimator-doc-link.fitted:hover,\n",
       "div.sk-label-container:hover .sk-estimator-doc-link.fitted:hover,\n",
       ".sk-estimator-doc-link.fitted:hover {\n",
       "  /* fitted */\n",
       "  background-color: var(--sklearn-color-fitted-level-3);\n",
       "  color: var(--sklearn-color-background);\n",
       "  text-decoration: none;\n",
       "}\n",
       "\n",
       "/* Span, style for the box shown on hovering the info icon */\n",
       ".sk-estimator-doc-link span {\n",
       "  display: none;\n",
       "  z-index: 9999;\n",
       "  position: relative;\n",
       "  font-weight: normal;\n",
       "  right: .2ex;\n",
       "  padding: .5ex;\n",
       "  margin: .5ex;\n",
       "  width: min-content;\n",
       "  min-width: 20ex;\n",
       "  max-width: 50ex;\n",
       "  color: var(--sklearn-color-text);\n",
       "  box-shadow: 2pt 2pt 4pt #999;\n",
       "  /* unfitted */\n",
       "  background: var(--sklearn-color-unfitted-level-0);\n",
       "  border: .5pt solid var(--sklearn-color-unfitted-level-3);\n",
       "}\n",
       "\n",
       ".sk-estimator-doc-link.fitted span {\n",
       "  /* fitted */\n",
       "  background: var(--sklearn-color-fitted-level-0);\n",
       "  border: var(--sklearn-color-fitted-level-3);\n",
       "}\n",
       "\n",
       ".sk-estimator-doc-link:hover span {\n",
       "  display: block;\n",
       "}\n",
       "\n",
       "/* \"?\"-specific style due to the `<a>` HTML tag */\n",
       "\n",
       "#sk-container-id-1 a.estimator_doc_link {\n",
       "  float: right;\n",
       "  font-size: 1rem;\n",
       "  line-height: 1em;\n",
       "  font-family: monospace;\n",
       "  background-color: var(--sklearn-color-background);\n",
       "  border-radius: 1rem;\n",
       "  height: 1rem;\n",
       "  width: 1rem;\n",
       "  text-decoration: none;\n",
       "  /* unfitted */\n",
       "  color: var(--sklearn-color-unfitted-level-1);\n",
       "  border: var(--sklearn-color-unfitted-level-1) 1pt solid;\n",
       "}\n",
       "\n",
       "#sk-container-id-1 a.estimator_doc_link.fitted {\n",
       "  /* fitted */\n",
       "  border: var(--sklearn-color-fitted-level-1) 1pt solid;\n",
       "  color: var(--sklearn-color-fitted-level-1);\n",
       "}\n",
       "\n",
       "/* On hover */\n",
       "#sk-container-id-1 a.estimator_doc_link:hover {\n",
       "  /* unfitted */\n",
       "  background-color: var(--sklearn-color-unfitted-level-3);\n",
       "  color: var(--sklearn-color-background);\n",
       "  text-decoration: none;\n",
       "}\n",
       "\n",
       "#sk-container-id-1 a.estimator_doc_link.fitted:hover {\n",
       "  /* fitted */\n",
       "  background-color: var(--sklearn-color-fitted-level-3);\n",
       "}\n",
       "\n",
       ".estimator-table summary {\n",
       "    padding: .5rem;\n",
       "    font-family: monospace;\n",
       "    cursor: pointer;\n",
       "}\n",
       "\n",
       ".estimator-table details[open] {\n",
       "    padding-left: 0.1rem;\n",
       "    padding-right: 0.1rem;\n",
       "    padding-bottom: 0.3rem;\n",
       "}\n",
       "\n",
       ".estimator-table .parameters-table {\n",
       "    margin-left: auto !important;\n",
       "    margin-right: auto !important;\n",
       "}\n",
       "\n",
       ".estimator-table .parameters-table tr:nth-child(odd) {\n",
       "    background-color: #fff;\n",
       "}\n",
       "\n",
       ".estimator-table .parameters-table tr:nth-child(even) {\n",
       "    background-color: #f6f6f6;\n",
       "}\n",
       "\n",
       ".estimator-table .parameters-table tr:hover {\n",
       "    background-color: #e0e0e0;\n",
       "}\n",
       "\n",
       ".estimator-table table td {\n",
       "    border: 1px solid rgba(106, 105, 104, 0.232);\n",
       "}\n",
       "\n",
       ".user-set td {\n",
       "    color:rgb(255, 94, 0);\n",
       "    text-align: left;\n",
       "}\n",
       "\n",
       ".user-set td.value pre {\n",
       "    color:rgb(255, 94, 0) !important;\n",
       "    background-color: transparent !important;\n",
       "}\n",
       "\n",
       ".default td {\n",
       "    color: black;\n",
       "    text-align: left;\n",
       "}\n",
       "\n",
       ".user-set td i,\n",
       ".default td i {\n",
       "    color: black;\n",
       "}\n",
       "\n",
       ".copy-paste-icon {\n",
       "    background-image: url(data:image/svg+xml;base64,PHN2ZyB4bWxucz0iaHR0cDovL3d3dy53My5vcmcvMjAwMC9zdmciIHZpZXdCb3g9IjAgMCA0NDggNTEyIj48IS0tIUZvbnQgQXdlc29tZSBGcmVlIDYuNy4yIGJ5IEBmb250YXdlc29tZSAtIGh0dHBzOi8vZm9udGF3ZXNvbWUuY29tIExpY2Vuc2UgLSBodHRwczovL2ZvbnRhd2Vzb21lLmNvbS9saWNlbnNlL2ZyZWUgQ29weXJpZ2h0IDIwMjUgRm9udGljb25zLCBJbmMuLS0+PHBhdGggZD0iTTIwOCAwTDMzMi4xIDBjMTIuNyAwIDI0LjkgNS4xIDMzLjkgMTQuMWw2Ny45IDY3LjljOSA5IDE0LjEgMjEuMiAxNC4xIDMzLjlMNDQ4IDMzNmMwIDI2LjUtMjEuNSA0OC00OCA0OGwtMTkyIDBjLTI2LjUgMC00OC0yMS41LTQ4LTQ4bDAtMjg4YzAtMjYuNSAyMS41LTQ4IDQ4LTQ4ek00OCAxMjhsODAgMCAwIDY0LTY0IDAgMCAyNTYgMTkyIDAgMC0zMiA2NCAwIDAgNDhjMCAyNi41LTIxLjUgNDgtNDggNDhMNDggNTEyYy0yNi41IDAtNDgtMjEuNS00OC00OEwwIDE3NmMwLTI2LjUgMjEuNS00OCA0OC00OHoiLz48L3N2Zz4=);\n",
       "    background-repeat: no-repeat;\n",
       "    background-size: 14px 14px;\n",
       "    background-position: 0;\n",
       "    display: inline-block;\n",
       "    width: 14px;\n",
       "    height: 14px;\n",
       "    cursor: pointer;\n",
       "}\n",
       "</style><body><div id=\"sk-container-id-1\" class=\"sk-top-container\"><div class=\"sk-text-repr-fallback\"><pre>Tokenizer(max_features=20000,\n",
       "          tokenizer=&lt;function simple_tokenizer at 0x77cf2681cd60&gt;)</pre><b>In a Jupyter environment, please rerun this cell to show the HTML representation or trust the notebook. <br />On GitHub, the HTML representation is unable to render, please try loading this page with nbviewer.org.</b></div><div class=\"sk-container\" hidden><div class=\"sk-item\"><div class=\"sk-estimator fitted sk-toggleable\"><input class=\"sk-toggleable__control sk-hidden--visually\" id=\"sk-estimator-id-1\" type=\"checkbox\" checked><label for=\"sk-estimator-id-1\" class=\"sk-toggleable__label fitted sk-toggleable__label-arrow\"><div><div>Tokenizer</div></div><div><span class=\"sk-estimator-doc-link fitted\">i<span>Fitted</span></span></div></label><div class=\"sk-toggleable__content fitted\" data-param-prefix=\"\">\n",
       "        <div class=\"estimator-table\">\n",
       "            <details>\n",
       "                <summary>Parameters</summary>\n",
       "                <table class=\"parameters-table\">\n",
       "                  <tbody>\n",
       "                    \n",
       "        <tr class=\"default\">\n",
       "            <td><i class=\"copy-paste-icon\"\n",
       "                 onclick=\"copyToClipboard('lowercase',\n",
       "                          this.parentElement.nextElementSibling)\"\n",
       "            ></i></td>\n",
       "            <td class=\"param\">lowercase&nbsp;</td>\n",
       "            <td class=\"value\">False</td>\n",
       "        </tr>\n",
       "    \n",
       "\n",
       "        <tr class=\"user-set\">\n",
       "            <td><i class=\"copy-paste-icon\"\n",
       "                 onclick=\"copyToClipboard('tokenizer',\n",
       "                          this.parentElement.nextElementSibling)\"\n",
       "            ></i></td>\n",
       "            <td class=\"param\">tokenizer&nbsp;</td>\n",
       "            <td class=\"value\">&lt;function sim...x77cf2681cd60&gt;</td>\n",
       "        </tr>\n",
       "    \n",
       "\n",
       "        <tr class=\"default\">\n",
       "            <td><i class=\"copy-paste-icon\"\n",
       "                 onclick=\"copyToClipboard('token_pattern',\n",
       "                          this.parentElement.nextElementSibling)\"\n",
       "            ></i></td>\n",
       "            <td class=\"param\">token_pattern&nbsp;</td>\n",
       "            <td class=\"value\">None</td>\n",
       "        </tr>\n",
       "    \n",
       "\n",
       "        <tr class=\"user-set\">\n",
       "            <td><i class=\"copy-paste-icon\"\n",
       "                 onclick=\"copyToClipboard('max_features',\n",
       "                          this.parentElement.nextElementSibling)\"\n",
       "            ></i></td>\n",
       "            <td class=\"param\">max_features&nbsp;</td>\n",
       "            <td class=\"value\">20000</td>\n",
       "        </tr>\n",
       "    \n",
       "                  </tbody>\n",
       "                </table>\n",
       "            </details>\n",
       "        </div>\n",
       "    </div></div></div></div></div><script>function copyToClipboard(text, element) {\n",
       "    // Get the parameter prefix from the closest toggleable content\n",
       "    const toggleableContent = element.closest('.sk-toggleable__content');\n",
       "    const paramPrefix = toggleableContent ? toggleableContent.dataset.paramPrefix : '';\n",
       "    const fullParamName = paramPrefix ? `${paramPrefix}${text}` : text;\n",
       "\n",
       "    const originalStyle = element.style;\n",
       "    const computedStyle = window.getComputedStyle(element);\n",
       "    const originalWidth = computedStyle.width;\n",
       "    const originalHTML = element.innerHTML.replace('Copied!', '');\n",
       "\n",
       "    navigator.clipboard.writeText(fullParamName)\n",
       "        .then(() => {\n",
       "            element.style.width = originalWidth;\n",
       "            element.style.color = 'green';\n",
       "            element.innerHTML = \"Copied!\";\n",
       "\n",
       "            setTimeout(() => {\n",
       "                element.innerHTML = originalHTML;\n",
       "                element.style = originalStyle;\n",
       "            }, 2000);\n",
       "        })\n",
       "        .catch(err => {\n",
       "            console.error('Failed to copy:', err);\n",
       "            element.style.color = 'red';\n",
       "            element.innerHTML = \"Failed!\";\n",
       "            setTimeout(() => {\n",
       "                element.innerHTML = originalHTML;\n",
       "                element.style = originalStyle;\n",
       "            }, 2000);\n",
       "        });\n",
       "    return false;\n",
       "}\n",
       "\n",
       "document.querySelectorAll('.fa-regular.fa-copy').forEach(function(element) {\n",
       "    const toggleableContent = element.closest('.sk-toggleable__content');\n",
       "    const paramPrefix = toggleableContent ? toggleableContent.dataset.paramPrefix : '';\n",
       "    const paramName = element.parentElement.nextElementSibling.textContent.trim();\n",
       "    const fullParamName = paramPrefix ? `${paramPrefix}${paramName}` : paramName;\n",
       "\n",
       "    element.setAttribute('title', fullParamName);\n",
       "});\n",
       "</script></body>"
      ],
      "text/plain": [
       "Tokenizer(max_features=20000,\n",
       "          tokenizer=<function simple_tokenizer at 0x77cf2681cd60>)"
      ]
     },
     "execution_count": 15,
     "metadata": {},
     "output_type": "execute_result"
    }
   ],
   "source": [
    "tokenizer.fit(train_reviews.values)"
   ]
  },
  {
   "cell_type": "markdown",
   "id": "2fa44bd6",
   "metadata": {},
   "source": [
    "Получение индексов слов"
   ]
  },
  {
   "cell_type": "code",
   "execution_count": 16,
   "id": "73883737",
   "metadata": {},
   "outputs": [],
   "source": [
    "X_train = tokenizer.texts_to_sequences(train_reviews)"
   ]
  },
  {
   "cell_type": "code",
   "execution_count": 17,
   "id": "1df41b08",
   "metadata": {},
   "outputs": [
    {
     "name": "stdout",
     "output_type": "stream",
     "text": [
      "[6869, 11036, 8161, 6284, 6711, 11047, 12217, 17951, 19374, 569, 18802, 6018, 18122, 15464, 17889, 9550, 17889, 19766, 12855, 12337, 8865, 430, 19374, 17889, 19419, 5198, 7769, 18397, 10367, 5061, 12415, 13798, 15927, 8778, 17904, 4915, 17897, 13389, 579, 15293, 7303, 1453, 9555, 17889, 8161, 8210, 8321, 4751, 11837, 10419, 5198, 7769, 12489, 6404, 12566, 19516, 7924, 13389, 6676, 11036, 2625, 19504, 18843, 8321, 908, 18122, 15675, 7924, 19538, 8848, 19530, 10862, 18460, 1456, 12417, 12337, 17889, 11591, 12160, 7639, 13483, 12566, 166, 12415, 17889, 1159, 15265, 7851, 14306, 10807, 17885, 15893, 6739, 19761, 579, 7068, 1, 1336, 6039, 18122, 11036, 8292, 19565, 19374, 8459, 17889, 15131, 12416, 10036, 1123, 12337, 17951, 11036, 8292, 579, 8321, 908, 1, 6325, 6955, 14155, 2323, 17033, 4753, 17545, 14177, 18688, 17889, 16191, 8877, 13615, 12489, 5856, 1328, 12415, 17889, 12158, 15265, 642, 19428, 19504, 17033, 384, 579, 16452, 908, 8361, 19428, 3885, 16656, 19681, 17889, 5059, 26, 17889, 10807, 166, 579, 19516, 8361, 674, 3885, 1388, 5117, 8865, 18195, 1, 19091, 9860, 18064, 6676, 5198, 7769, 18122, 852, 19538, 8459, 8878, 8321, 3885, 18688, 579, 19530, 15893, 4751, 16022, 18860, 15893, 4753, 17545, 3399, 8767, 17889, 15131, 19681, 1, 7909, 9624, 467, 14384, 4976, 2323, 19681, 17889, 1016, 17885, 11036, 8292, 579, 8321, 7639, 5117, 16523, 19806, 8459, 909, 6676, 7924, 8321, 5108, 17545, 9309, 8361, 17889, 12160, 7639, 1446, 12341, 12489, 6891, 17885, 19428, 4753, 17545, 18688, 17889, 16191, 579, 17905, 7337, 5198, 7769, 19742, 18860, 17995, 17889, 10159, 8459, 19538, 17923, 6059, 12563, 14744, 18122, 15675, 17889, 5059, 2323, 19530, 5198, 7769, 6397, 4751, 852, 19428, 19504, 10036, 18122, 6287, 9697, 2973, 19565, 7639, 5117, 16523, 19806, 579, 19504, 11888, 8459, 18460, 6676, 8865, 17912, 19374, 11761, 13430, 8780, 11761, 8635, 890, 18122, 8208, 8321, 19374, 6288, 11837, 5883, 1, 16364, 9111, 1, 1543, 15893, 908, 17937, 9697, 19909, 14534, 569, 8741, 10807, 8848, 17885, 3838, 579, 19530, 19428, 18424, 18122, 639, 15893, 8749, 14241, 7924, 19213, 579, 14709, 8848, 17885, 3838, 19428, 6036, 17885, 8459, 6124, 11761, 8865, 19374, 11837, 3838, 12417, 12337, 17889, 12160, 7639, 12347, 18122, 2807, 17889, 10807, 6676, 11036, 6445, 18122, 15675, 19536, 17885, 7639, 667, 5503, 12415, 17889, 10807, 579, 17885, 8848, 19516, 19428, 7639, 65, 19428, 19504, 14357, 579, 19618, 18122, 17513, 18122, 569, 8741, 10807, 8361, 17889, 13861, 13132, 5198, 7769, 17905, 11036, 8292, 6676, 5883, 9870, 967, 17889, 10807, 15592, 8459, 16748, 12337, 17889, 6124, 17885, 8865, 19374, 12417, 12337, 17889, 12160, 19565, 8611, 2132, 8016, 1010, 18122, 8865, 5198, 7769, 10036, 8865, 3198, 18122, 18905, 17885, 17889, 10810, 798, 11837, 6676, 19909, 17889, 12932, 18122, 14351, 19909, 5108, 17545, 9309, 8208, 18122, 14351, 17900, 8865, 17597, 19865, 12337, 18325, 18122, 9542, 8208, 18122, 14351, 17921, 10810, 18325, 19909, 5108, 17545, 7798, 579, 5883, 8361, 19909, 19504, 18321, 17923, 19771, 17033, 1388, 4775, 18122, 14351, 8321, 19675, 11792, 12337, 17921, 15135, 7639, 10810, 5856, 579, 12416, 19428, 7337, 12903, 17885, 15541, 5198, 7769, 10036, 8865, 15682, 890, 17960, 19428, 7639, 5159, 17889, 12160, 19538, 967, 17885, 13481, 19428, 7641, 17545, 14648, 18905, 17885, 17889, 12160, 798, 19492, 18321, 2507, 579, 9309, 10967, 10862, 26, 17921, 17937, 17875, 19909, 5051, 579, 15893, 15293, 430, 17951, 8459, 6871, 12337, 17900, 8459, 17889, 15350, 17834, 18177, 19428, 6036, 17885, 17885, 19374, 11425, 1, 10320, 8459, 14151, 17885, 19428, 11425, 5159, 17897, 430, 19428, 19504, 8129, 6676, 19374, 16514, 3161, 8459, 1, 16191, 2132, 18122, 12563, 1010, 2359, 17889, 12160, 579, 10036, 12566, 18122, 1388, 12417, 6676, 3658, 3552, 890, 1, 12932, 8321, 17939, 8321, 7798, 17889, 14990, 18122, 907, 14155, 579, 14744, 18122, 15675, 1, 5059, 8321, 7639, 17889, 8443, 5198, 7769, 19374, 12415, 17889, 4487, 17889, 5751, 18064, 579, 19516, 10036, 17937, 10862, 6676, 10367, 19374, 17889, 6124, 17885, 15893, 4431, 18122, 6644, 8865, 430, 18860, 19681, 1, 9246, 12337, 14056, 12416, 15893, 6425, 1337, 17773, 18905, 12338, 5198, 7769, 4431, 18122, 5677, 7924, 19189, 19681, 19516, 6298, 9697, 1, 17972, 12489, 12337, 11036, 14746, 18122, 15675, 7924, 890, 15893, 19374, 7148, 14357, 18122, 19305, 12566, 12337, 17889, 15131, 5198, 7769, 7639, 1, 10634, 4406, 19681, 7938, 909, 16006, 8321, 15464, 8865, 10339, 8321, 16010, 17545, 15464, 8865, 8321, 9797, 9111, 15464, 8865, 1421, 17885, 15265, 17889, 9246, 12337, 13134, 8321, 500, 17905, 15893, 9868, 10367, 17090, 8459, 17889, 6114, 579, 15293, 19909, 14341, 7287, 18122, 7798, 1, 2365, 15664, 579, 19307, 12566, 5899, 5601, 17885, 7639, 7298, 12415, 17885, 11591, 5883, 19530, 5198, 7769, 3885, 11837, 17939, 12337, 17889, 17937, 15893, 19374, 14497, 18122, 579, 7639, 18122, 1388, 14645, 12337, 2359, 17889, 12160, 5899, 5601, 15893, 7639, 15293, 798, 17937, 8321, 13860, 3885, 7798, 7696, 2323, 11837, 17885, 11837, 8459, 1, 13370, 8321, 7639, 1446, 957, 8321, 3885, 6003, 9252, 6869, 8321, 7639, 11425, 7198, 1642, 1453, 579, 8321, 19374, 11837, 13736, 6676, 17889, 13967, 12337, 17405, 8321, 19374, 18156, 6869, 17889, 18064, 8321, 7639, 853, 967, 17889, 8161, 18122, 18488, 579, 14589, 18122, 7905, 17937, 468, 2323, 8208, 3885, 672, 14589, 284, 1482, 18397, 9697, 17885, 17889, 12337, 9371, 798, 4775, 5721, 8459, 17904, 2323, 284, 17268, 569, 8728, 19681, 5198, 7769, 8321, 19374, 3508, 17129, 12566, 26, 1482, 16769, 18122, 8459, 17268, 1, 19419, 579, 430, 8321, 3885, 17905, 17939, 26, 19374, 17889, 2751, 12337, 17405, 15893, 18195, 1125, 11036, 2800, 6676, 1, 4547, 579, 2677, 10367, 16452, 10967, 5012, 17885, 8321, 3508, 18860, 6676, 17889, 14828, 12337, 19516, 19771, 17033, 1388, 1, 19091, 9860, 9371, 7924, 18399, 12337, 10367, 19374, 8459, 16514, 19422, 10862, 18372, 17875, 17889, 17405, 8878, 19771, 9553, 16929, 8361, 13615]\n"
     ]
    }
   ],
   "source": [
    "print(X_train[0])"
   ]
  },
  {
   "cell_type": "code",
   "execution_count": 18,
   "id": "056f6534",
   "metadata": {},
   "outputs": [
    {
     "data": {
      "text/plain": [
       "['from', 'my', 'hospital']"
      ]
     },
     "execution_count": 18,
     "metadata": {},
     "output_type": "execute_result"
    }
   ],
   "source": [
    "[tokenizer.index_word[x] for x in X_train[0][:3]]"
   ]
  },
  {
   "cell_type": "markdown",
   "id": "db3d143f",
   "metadata": {},
   "source": [
    "Получение текста по индексам"
   ]
  },
  {
   "cell_type": "code",
   "execution_count": 19,
   "id": "8b769f00",
   "metadata": {},
   "outputs": [
    {
     "name": "stdout",
     "output_type": "stream",
     "text": [
      "Текст, полученный по индексам:\n",
      "from my hospital feedback form n nwhile this was an unpleasant experience to say the least the worst part of it all was the way dr haslett treated me doctors on previous shifts introduced themselves discussed their plans and said goodbye before leaving the hospital however i did not meet dr haslett \n",
      "\n",
      "Оригинальный текст:\n",
      "From my hospital feedback form:\\n\\nWhile this was an unpleasant experience to say the least, the worst part of it all was the way Dr. Haslett treated me.  Doctors on previous shifts introduced themselves, discussed their plans and said goodbye before leaving the hospital.  However, I did not meet Dr\n"
     ]
    }
   ],
   "source": [
    "print(\"Текст, полученный по индексам:\")\n",
    "print(tokenizer.sequences_to_texts([X_train[0]])[0][:300])\n",
    "print()\n",
    "print(\"Оригинальный текст:\")\n",
    "print(train_reviews.iloc[0][:300])"
   ]
  },
  {
   "cell_type": "markdown",
   "id": "94d0ed67",
   "metadata": {},
   "source": [
    "## Приведение последовательностей к одной длине. Преобразование в tensor\n",
    "\n",
    "Часто чтобы обучить модель необходимо, чтобы последовательности были одной длины.\n",
    "\n",
    "Мы ограничим последовательности *200* токенами. Если токенов больше, последовательность обрезается, если меньше - дополняется нулями (в начале)."
   ]
  },
  {
   "cell_type": "code",
   "execution_count": 20,
   "id": "d0490afc",
   "metadata": {},
   "outputs": [],
   "source": [
    "# У нас есть -> перевести в\n",
    "#\n",
    "# X_train: list[list[int]] -> tensor torch.long\n",
    "# val_reviews: list[list[str]] -> list[list[int]] -> tensor dtype long\n",
    "# y_train: Series[int] -> tensor torch.float32\n",
    "# y_val: Series[int] -> tensor torch.float32\n",
    "\n",
    "# Последовательности\n",
    "X_train\n",
    "X_val = tokenizer.texts_to_sequences(val_reviews)\n"
   ]
  },
  {
   "cell_type": "code",
   "execution_count": 21,
   "id": "13fa77a1",
   "metadata": {},
   "outputs": [],
   "source": [
    "def pad_sequence(\n",
    "    sequences: list[list[int]], max_len: int, value=0\n",
    ") -> torch.Tensor:\n",
    "    padded = torch.full((len(sequences), max_len), fill_value=0)\n",
    "\n",
    "    for i, seq in enumerate(sequences):\n",
    "        trunc = torch.tensor(seq[: min(len(seq), max_len)], dtype=torch.long)\n",
    "        padded[i, : len(trunc)] = trunc\n",
    "\n",
    "    return padded"
   ]
  },
  {
   "cell_type": "code",
   "execution_count": 22,
   "id": "c49aa11e",
   "metadata": {},
   "outputs": [],
   "source": [
    "# Приведение к одному размеру и в тип tensor\n",
    "MAX_REVIEW_LEN = 200\n",
    "\n",
    "X_train_padded = pad_sequence(X_train, MAX_REVIEW_LEN)\n",
    "X_val_padded = pad_sequence(X_val, MAX_REVIEW_LEN)\n",
    "y_train = torch.tensor(y_train.values, dtype=torch.float32)\n",
    "y_val = torch.tensor(y_val.values, dtype=torch.float32)"
   ]
  },
  {
   "cell_type": "markdown",
   "id": "bf763d81",
   "metadata": {},
   "source": [
    "## Создание матрицы весов для Embedding слоя\n",
    "\n",
    "Возьмем векторы из `gensim` (`word_vectors`) для слов из нашего словаря (`tokenizer.word_index`)"
   ]
  },
  {
   "cell_type": "code",
   "execution_count": 23,
   "id": "554ddb08",
   "metadata": {},
   "outputs": [
    {
     "data": {
      "text/plain": [
       "dtype('float32')"
      ]
     },
     "execution_count": 23,
     "metadata": {},
     "output_type": "execute_result"
    }
   ],
   "source": [
    "word_vectors[\"good\"].dtype"
   ]
  },
  {
   "cell_type": "code",
   "execution_count": 24,
   "id": "79ce8872",
   "metadata": {},
   "outputs": [],
   "source": [
    "# +1 для индекса 0\n",
    "# (если мы, допустим, дополнили последовательность 0-ями до размера 200)\n",
    "num_embeddings = len(tokenizer.word_index) + 1\n",
    "embedding_dim = 300\n",
    "\n",
    "embedding_matrix = torch.zeros(\n",
    "    (num_embeddings, embedding_dim), dtype=torch.float32\n",
    ")\n",
    "\n",
    "for word, i in tokenizer.word_index.items():\n",
    "    if word_vectors.has_index_for(word):\n",
    "        embedding_matrix[i] = torch.tensor(\n",
    "            word_vectors[word], dtype=torch.float32\n",
    "        )\n"
   ]
  },
  {
   "cell_type": "code",
   "execution_count": 25,
   "id": "178f38f2",
   "metadata": {},
   "outputs": [
    {
     "name": "stdout",
     "output_type": "stream",
     "text": [
      "tensor([ 0.0405,  0.0625, -0.0175,  0.0786,  0.0327, -0.0126,  0.0096,  0.1235,\n",
      "        -0.0215,  0.1523, -0.0583, -0.1064,  0.0212,  0.1357, -0.1318,  0.1768,\n",
      "         0.2715,  0.1377, -0.1738, -0.1416, -0.0308,  0.1963, -0.0330,  0.1250,\n",
      "         0.2539,  0.1270, -0.1523,  0.0320,  0.0114, -0.0136, -0.1289,  0.0102,\n",
      "         0.2393, -0.0845,  0.1406,  0.1309, -0.0452,  0.0649,  0.0254,  0.0562,\n",
      "         0.2461, -0.2051,  0.2363, -0.0086, -0.0229,  0.0508,  0.1064, -0.0356,\n",
      "         0.0874, -0.0571])\n"
     ]
    }
   ],
   "source": [
    "# Проверка\n",
    "print(embedding_matrix[tokenizer.word_index[\"good\"]][:50])"
   ]
  },
  {
   "cell_type": "markdown",
   "id": "790919a7",
   "metadata": {},
   "source": [
    "## Обучение модели"
   ]
  },
  {
   "cell_type": "code",
   "execution_count": 26,
   "id": "db37cfc1",
   "metadata": {},
   "outputs": [],
   "source": [
    "class SequenceMeanPooling(nn.Module):\n",
    "    \"\"\"Слой для усреднения по последовательности (по оси seq_length)\"\"\"\n",
    "\n",
    "    def forward(self, x):\n",
    "        # x: (batch_size, seq_length, features)\n",
    "        return torch.mean(x, dim=1, keepdim=False)\n",
    "\n",
    "\n",
    "class SentimentClassifier(nn.Module):\n",
    "    def __init__(self, embeddings: torch.Tensor):\n",
    "        \"\"\"\n",
    "        Args:\n",
    "            embeddings (torch.Tensor): shape=(num_embeddings, embedding_dim). Первым элементом должен быть вектор из 0-ей (для 0-ых индексов последовательности)\n",
    "        \"\"\"\n",
    "        super().__init__()\n",
    "\n",
    "        # Embedding слой. Инициализация весов\n",
    "        self.num_embeddings, self.embedding_dim = embeddings.shape\n",
    "\n",
    "        self.embedding = nn.Embedding(\n",
    "            self.num_embeddings, self.embedding_dim, padding_idx=0\n",
    "        )\n",
    "        self.embedding.weight.data.copy_(embeddings)\n",
    "\n",
    "        # Усреднение векторов последовательности\n",
    "        self.avg_pooling = SequenceMeanPooling()\n",
    "\n",
    "        self.fc1 = nn.Sequential(\n",
    "            nn.Linear(self.embedding_dim, 128), nn.ReLU(inplace=True)\n",
    "        )\n",
    "        self.fc2 = nn.Sequential(nn.Linear(128, 64), nn.ReLU(inplace=True))\n",
    "        self.out = nn.Linear(64, 1)\n",
    "\n",
    "    def forward(self, x):\n",
    "        # X: (batch_size, seq_length, features)\n",
    "        x = self.embedding(x)\n",
    "        x = self.avg_pooling(x)\n",
    "        x = self.fc1(x)\n",
    "        x = self.fc2(x)\n",
    "        x = self.out(x)\n",
    "\n",
    "        return x\n",
    "\n",
    "\n",
    "class ClassifierDataset(data.Dataset):\n",
    "    def __init__(self, X: torch.Tensor, y: torch.Tensor):\n",
    "        super().__init__()\n",
    "        self.X = X\n",
    "        self.y = y\n",
    "        self.length = self.X.size(0)\n",
    "\n",
    "    def __getitem__(self, index):\n",
    "        return self.X[index], self.y[index]\n",
    "\n",
    "    def __len__(self):\n",
    "        return self.length\n"
   ]
  },
  {
   "cell_type": "code",
   "execution_count": 27,
   "id": "8db0cdb3",
   "metadata": {},
   "outputs": [],
   "source": [
    "class ClassifierTrainer:\n",
    "    def __init__(\n",
    "        self,\n",
    "        model: nn.Module,\n",
    "        criterion: nn.Module,\n",
    "        optimizer: optim.Optimizer,\n",
    "        train_dataloader: data.DataLoader,\n",
    "        val_dataloader: data.DataLoader,\n",
    "        epochs: int,\n",
    "        patience: int,\n",
    "        device: torch.device,\n",
    "    ):\n",
    "        self.model = model.to(device)\n",
    "        self.train_dataloader = train_dataloader\n",
    "        self.val_dataloader = val_dataloader\n",
    "        self.criterion = criterion\n",
    "        self.optimizer = optimizer\n",
    "        self.epochs = epochs\n",
    "        self.patience = patience\n",
    "        self.device = device\n",
    "\n",
    "    def compute_metrics(self, y_pred, y_true):\n",
    "        return {\"accuracy\": accuracy_score(y_true, y_pred)}\n",
    "\n",
    "    def _train_epoch(self):\n",
    "        self.model.train()\n",
    "\n",
    "        epoch_loss = 0\n",
    "        epoch_probas = []\n",
    "        epoch_labels = []\n",
    "        for X, y in tqdm(self.train_dataloader, desc=\"Training\"):\n",
    "            X, y = X.to(self.device), y.to(self.device)\n",
    "            outputs = self.model(X).squeeze()\n",
    "            loss = self.criterion(outputs, y)\n",
    "\n",
    "            self.optimizer.zero_grad()\n",
    "            loss.backward()\n",
    "            self.optimizer.step()\n",
    "            epoch_loss += loss.item()\n",
    "            epoch_probas.extend(torch.sigmoid(outputs.detach().cpu()).numpy())\n",
    "            epoch_labels.extend(y.detach().cpu().numpy())\n",
    "\n",
    "        epoch_loss /= len(self.train_dataloader)\n",
    "        epoch_predicts = (np.array(epoch_probas) > 0.5).astype(int)\n",
    "        metrics = self.compute_metrics(epoch_predicts, epoch_labels)\n",
    "        return epoch_loss, metrics\n",
    "\n",
    "    def _validate(\n",
    "        self, dataloader=None\n",
    "    ) -> tuple[float, dict[str, float | int]]:\n",
    "        if dataloader is None:\n",
    "            dataloader = self.val_dataloader\n",
    "        self.model.eval()\n",
    "        epoch_loss = 0\n",
    "        epoch_probas = []\n",
    "        epoch_labels = []\n",
    "        with torch.no_grad():\n",
    "            for X, y in tqdm(dataloader, desc=\"Validation\"):\n",
    "                X, y = X.to(self.device), y.to(self.device)\n",
    "\n",
    "                outputs = self.model(X).squeeze()\n",
    "                loss = self.criterion(outputs, y)\n",
    "\n",
    "                epoch_loss += loss.item()\n",
    "                epoch_probas.extend(\n",
    "                    torch.sigmoid(outputs.detach().cpu()).numpy()\n",
    "                )\n",
    "                epoch_labels.extend(y.detach().cpu().numpy())\n",
    "\n",
    "        epoch_loss /= len(dataloader)\n",
    "        epoch_predicts = (np.array(epoch_probas) > 0.5).astype(int)\n",
    "        metrics = self.compute_metrics(\n",
    "            epoch_predicts,\n",
    "            epoch_labels,\n",
    "        )\n",
    "        return epoch_loss, metrics\n",
    "\n",
    "    def test(\n",
    "        self, test_dataloader: data.DataLoader\n",
    "    ) -> tuple[float, dict[str, float | int]]:\n",
    "        return self._validate(test_dataloader)\n",
    "\n",
    "    def __append_to_history(self, **kwargs):\n",
    "        for k in self.history:\n",
    "            self.history[k].append(kwargs[k])\n",
    "\n",
    "    def train(self):\n",
    "        self.history = dict(\n",
    "            train_loss=[], val_loss=[], train_accuracy=[], val_accuracy=[]\n",
    "        )\n",
    "        best_score = 0\n",
    "        no_improve = 0\n",
    "        best_model = self.model.state_dict()\n",
    "        for epoch in range(self.epochs):\n",
    "            train_loss, train_metrics = self._train_epoch()\n",
    "            val_loss, val_metrics = self._validate()\n",
    "            self.__append_to_history(\n",
    "                train_loss=train_loss,\n",
    "                train_accuracy=train_metrics[\"accuracy\"],\n",
    "                val_loss=val_loss,\n",
    "                val_accuracy=val_metrics[\"accuracy\"],\n",
    "            )\n",
    "\n",
    "            print(f\"Epoch {epoch + 1}/{self.epochs}\")\n",
    "            print(\n",
    "                f\"Train Loss:      {train_loss:.3f}, \"\n",
    "                f\"Train Accuracy:      {train_metrics['accuracy']:.3f}\"\n",
    "            )\n",
    "            print(\n",
    "                f\"Validation Loss: {val_loss:.3f}, \"\n",
    "                f\"Validation Accuracy: {val_metrics['accuracy']:.3f}\"\n",
    "            )\n",
    "            print()\n",
    "            if best_score < val_metrics[\"accuracy\"]:\n",
    "                best_score = val_metrics[\"accuracy\"]\n",
    "                best_model = self.model.state_dict()\n",
    "                no_improve = 0\n",
    "            else:\n",
    "                no_improve += 1\n",
    "            if no_improve > self.patience:\n",
    "                print(f\"Early stopping after {epoch + 1} epoch\")\n",
    "                self.model.load_state_dict(best_model)\n",
    "                break\n",
    "\n",
    "        print(f\"Best Accuracy: {best_score:.4f}\")\n",
    "        return self.history"
   ]
  },
  {
   "cell_type": "code",
   "execution_count": 28,
   "id": "f1cef9c5",
   "metadata": {},
   "outputs": [
    {
     "name": "stdout",
     "output_type": "stream",
     "text": [
      "Device: cuda\n"
     ]
    },
    {
     "name": "stderr",
     "output_type": "stream",
     "text": [
      "Training: 100%|██████████| 167/167 [00:01<00:00, 161.40it/s]\n",
      "Validation: 100%|██████████| 30/30 [00:00<00:00, 585.54it/s]\n"
     ]
    },
    {
     "name": "stdout",
     "output_type": "stream",
     "text": [
      "Epoch 1/20\n",
      "Train Loss:      0.416, Train Accuracy:      0.814\n",
      "Validation Loss: 0.247, Validation Accuracy: 0.912\n",
      "\n"
     ]
    },
    {
     "name": "stderr",
     "output_type": "stream",
     "text": [
      "Training: 100%|██████████| 167/167 [00:00<00:00, 278.06it/s]\n",
      "Validation: 100%|██████████| 30/30 [00:00<00:00, 543.77it/s]\n"
     ]
    },
    {
     "name": "stdout",
     "output_type": "stream",
     "text": [
      "Epoch 2/20\n",
      "Train Loss:      0.205, Train Accuracy:      0.926\n",
      "Validation Loss: 0.233, Validation Accuracy: 0.915\n",
      "\n"
     ]
    },
    {
     "name": "stderr",
     "output_type": "stream",
     "text": [
      "Training: 100%|██████████| 167/167 [00:00<00:00, 213.95it/s]\n",
      "Validation: 100%|██████████| 30/30 [00:00<00:00, 548.07it/s]\n"
     ]
    },
    {
     "name": "stdout",
     "output_type": "stream",
     "text": [
      "Epoch 3/20\n",
      "Train Loss:      0.177, Train Accuracy:      0.939\n",
      "Validation Loss: 0.241, Validation Accuracy: 0.913\n",
      "\n"
     ]
    },
    {
     "name": "stderr",
     "output_type": "stream",
     "text": [
      "Training: 100%|██████████| 167/167 [00:00<00:00, 276.30it/s]\n",
      "Validation: 100%|██████████| 30/30 [00:00<00:00, 567.99it/s]\n"
     ]
    },
    {
     "name": "stdout",
     "output_type": "stream",
     "text": [
      "Epoch 4/20\n",
      "Train Loss:      0.157, Train Accuracy:      0.946\n",
      "Validation Loss: 0.253, Validation Accuracy: 0.913\n",
      "\n"
     ]
    },
    {
     "name": "stderr",
     "output_type": "stream",
     "text": [
      "Training: 100%|██████████| 167/167 [00:00<00:00, 217.00it/s]\n",
      "Validation: 100%|██████████| 30/30 [00:00<00:00, 575.08it/s]\n"
     ]
    },
    {
     "name": "stdout",
     "output_type": "stream",
     "text": [
      "Epoch 5/20\n",
      "Train Loss:      0.140, Train Accuracy:      0.950\n",
      "Validation Loss: 0.260, Validation Accuracy: 0.912\n",
      "\n"
     ]
    },
    {
     "name": "stderr",
     "output_type": "stream",
     "text": [
      "Training: 100%|██████████| 167/167 [00:00<00:00, 283.66it/s]\n",
      "Validation: 100%|██████████| 30/30 [00:00<00:00, 581.40it/s]"
     ]
    },
    {
     "name": "stdout",
     "output_type": "stream",
     "text": [
      "Epoch 6/20\n",
      "Train Loss:      0.129, Train Accuracy:      0.956\n",
      "Validation Loss: 0.289, Validation Accuracy: 0.907\n",
      "\n",
      "Early stopping after 6 epoch\n",
      "Best Accuracy: 0.9146\n"
     ]
    },
    {
     "name": "stderr",
     "output_type": "stream",
     "text": [
      "\n"
     ]
    }
   ],
   "source": [
    "device = torch.device(\"cuda\" if torch.cuda.is_available() else \"cpu\")\n",
    "print(\"Device:\", device)\n",
    "epochs = 20\n",
    "patience = 3\n",
    "batch_size = 512\n",
    "\n",
    "train_dataset = ClassifierDataset(X_train_padded, y_train)\n",
    "val_dataset = ClassifierDataset(X_val_padded, y_val)\n",
    "\n",
    "train_dataloader = data.DataLoader(\n",
    "    train_dataset, batch_size=batch_size, shuffle=True\n",
    ")\n",
    "val_dataloader = data.DataLoader(\n",
    "    val_dataset, batch_size=batch_size, shuffle=False\n",
    ")\n",
    "\n",
    "model = SentimentClassifier(embedding_matrix)\n",
    "\n",
    "criterion = nn.BCEWithLogitsLoss()\n",
    "optimizer = optim.Adam(model.parameters(), lr=0.001)\n",
    "trainer = ClassifierTrainer(\n",
    "    model,\n",
    "    criterion,\n",
    "    optimizer,\n",
    "    train_dataloader,\n",
    "    val_dataloader,\n",
    "    epochs=epochs,\n",
    "    patience=patience,\n",
    "    device=device,\n",
    ")\n",
    "history = trainer.train()"
   ]
  },
  {
   "cell_type": "markdown",
   "id": "6ed331be",
   "metadata": {},
   "source": [
    "## Оценка качества модели"
   ]
  },
  {
   "cell_type": "code",
   "execution_count": 29,
   "id": "9ca761cd",
   "metadata": {},
   "outputs": [],
   "source": [
    "def plot_history(history: dict[list]):\n",
    "    fig, (ax1, ax2) = plt.subplots(2, figsize=(15, 15))\n",
    "\n",
    "    ax1.plot(history[\"train_loss\"], label=\"Train Loss\", color=\"blue\")\n",
    "    ax1.plot(history[\"val_loss\"], label=\"Validation Loss\", color=\"red\")\n",
    "    ax1.set_xlabel(\"Epochs\")\n",
    "    ax1.set_ylabel(\"Loss\")\n",
    "    ax1.set_title(\"Training and Validation Loss\")\n",
    "    ax1.legend()\n",
    "    ax1.grid()\n",
    "\n",
    "    ax2.plot(history[\"train_accuracy\"], label=\"Train Accuracy\", color=\"blue\")\n",
    "    ax2.plot(history[\"val_accuracy\"], label=\"Validation Accuracy\", color=\"red\")\n",
    "    ax2.set_xlabel(\"Epochs\")\n",
    "    ax2.set_ylabel(\"Accuracy\")\n",
    "    ax2.set_title(\"Training and Validation Accuracy\")\n",
    "    ax2.legend()\n",
    "    ax2.grid()\n",
    "\n",
    "    fig.suptitle(\"Model Training Metrics\", fontsize=16)\n",
    "\n",
    "    fig.tight_layout(pad=2)\n",
    "    plt.show()"
   ]
  },
  {
   "cell_type": "code",
   "execution_count": 30,
   "id": "f26ae772",
   "metadata": {},
   "outputs": [
    {
     "data": {
      "image/png": "[encoded data removed]",
      "text/plain": [
       "<Figure size 1500x1500 with 2 Axes>"
      ]
     },
     "metadata": {},
     "output_type": "display_data"
    }
   ],
   "source": [
    "plot_history(history)"
   ]
  },
  {
   "cell_type": "markdown",
   "id": "257f6ee4",
   "metadata": {},
   "source": [
    "## Тестирование модели"
   ]
  },
  {
   "cell_type": "code",
   "execution_count": 31,
   "id": "06558816",
   "metadata": {},
   "outputs": [],
   "source": [
    "yelp_test = pd.read_csv(\n",
    "    \"yelp_review_polarity_csv/test.csv\", names=[\"sentiment\", \"review\"]\n",
    ")"
   ]
  },
  {
   "cell_type": "code",
   "execution_count": 32,
   "id": "acb6d2b4",
   "metadata": {},
   "outputs": [
    {
     "data": {
      "text/html": [
       "<div>\n",
       "<style scoped>\n",
       "    .dataframe tbody tr th:only-of-type {\n",
       "        vertical-align: middle;\n",
       "    }\n",
       "\n",
       "    .dataframe tbody tr th {\n",
       "        vertical-align: top;\n",
       "    }\n",
       "\n",
       "    .dataframe thead th {\n",
       "        text-align: right;\n",
       "    }\n",
       "</style>\n",
       "<table border=\"1\" class=\"dataframe\">\n",
       "  <thead>\n",
       "    <tr style=\"text-align: right;\">\n",
       "      <th></th>\n",
       "      <th>sentiment</th>\n",
       "      <th>review</th>\n",
       "    </tr>\n",
       "  </thead>\n",
       "  <tbody>\n",
       "    <tr>\n",
       "      <th>0</th>\n",
       "      <td>1</td>\n",
       "      <td>Contrary to other reviews, I have zero complai...</td>\n",
       "    </tr>\n",
       "    <tr>\n",
       "      <th>1</th>\n",
       "      <td>0</td>\n",
       "      <td>Last summer I had an appointment to get new ti...</td>\n",
       "    </tr>\n",
       "    <tr>\n",
       "      <th>2</th>\n",
       "      <td>1</td>\n",
       "      <td>Friendly staff, same starbucks fair you get an...</td>\n",
       "    </tr>\n",
       "    <tr>\n",
       "      <th>3</th>\n",
       "      <td>0</td>\n",
       "      <td>The food is good. Unfortunately the service is...</td>\n",
       "    </tr>\n",
       "    <tr>\n",
       "      <th>4</th>\n",
       "      <td>1</td>\n",
       "      <td>Even when we didn't have a car Filene's Baseme...</td>\n",
       "    </tr>\n",
       "  </tbody>\n",
       "</table>\n",
       "</div>"
      ],
      "text/plain": [
       "   sentiment                                             review\n",
       "0          1  Contrary to other reviews, I have zero complai...\n",
       "1          0  Last summer I had an appointment to get new ti...\n",
       "2          1  Friendly staff, same starbucks fair you get an...\n",
       "3          0  The food is good. Unfortunately the service is...\n",
       "4          1  Even when we didn't have a car Filene's Baseme..."
      ]
     },
     "execution_count": 32,
     "metadata": {},
     "output_type": "execute_result"
    }
   ],
   "source": [
    "yelp_test.replace(to_replace={\"sentiment\": {1: 0, 2: 1}}, inplace=True)\n",
    "yelp_test.head()"
   ]
  },
  {
   "cell_type": "code",
   "execution_count": 33,
   "id": "9f682e77",
   "metadata": {},
   "outputs": [],
   "source": [
    "X_test = tokenizer.texts_to_sequences(yelp_test[\"review\"])"
   ]
  },
  {
   "cell_type": "code",
   "execution_count": 34,
   "id": "fab9ac18",
   "metadata": {},
   "outputs": [],
   "source": [
    "X_test_padded = pad_sequence(X_test, MAX_REVIEW_LEN)"
   ]
  },
  {
   "cell_type": "code",
   "execution_count": 35,
   "id": "2cd7c3fb",
   "metadata": {},
   "outputs": [],
   "source": [
    "y_test = torch.tensor(yelp_test[\"sentiment\"].values, dtype=torch.float32)"
   ]
  },
  {
   "cell_type": "code",
   "execution_count": 36,
   "id": "08bd3ed7",
   "metadata": {},
   "outputs": [
    {
     "name": "stderr",
     "output_type": "stream",
     "text": [
      "Validation: 100%|██████████| 75/75 [00:00<00:00, 407.65it/s]\n"
     ]
    }
   ],
   "source": [
    "test_dataset = ClassifierDataset(X_test_padded, y_test)\n",
    "test_dataloader = data.DataLoader(\n",
    "    test_dataset, batch_size=batch_size, shuffle=False\n",
    ")\n",
    "loss, metrics = trainer.test(test_dataloader)"
   ]
  },
  {
   "cell_type": "code",
   "execution_count": 37,
   "id": "cce68d59",
   "metadata": {},
   "outputs": [
    {
     "name": "stdout",
     "output_type": "stream",
     "text": [
      "Test Loss:     0.265\n",
      "Test Accuracy: 0.916\n"
     ]
    }
   ],
   "source": [
    "print(f\"Test Loss:     {loss:.3f}\")\n",
    "print(f\"Test Accuracy: {metrics['accuracy']:.3f}\")"
   ]
  },
  {
   "cell_type": "markdown",
   "id": "0d58ebb9",
   "metadata": {},
   "source": [
    "Неплохой результат"
   ]
  },
  {
   "cell_type": "markdown",
   "id": "d29dbede",
   "metadata": {},
   "source": [
    "## Инференс\n",
    "\n",
    "Теперь модель можно использовать для прогнозов"
   ]
  },
  {
   "cell_type": "code",
   "execution_count": 38,
   "id": "7d7c75a7",
   "metadata": {},
   "outputs": [],
   "source": [
    "def predict(reviews: str | list[str]) -> str:\n",
    "    if isinstance(reviews, str):\n",
    "        reviews = [reviews]\n",
    "    seqs = tokenizer.texts_to_sequences(reviews)\n",
    "    seqs = pad_sequence(seqs, MAX_REVIEW_LEN).to(device)\n",
    "    model.eval()\n",
    "    with torch.no_grad():\n",
    "        outputs = model(seqs).detach().cpu().squeeze()\n",
    "    probs = torch.sigmoid(outputs).numpy()\n",
    "    predicts = probs > 0.5\n",
    "    return [\"Positive\" if pred else \"Negative\" for pred in predicts]"
   ]
  },
  {
   "cell_type": "code",
   "execution_count": 39,
   "id": "e7461e45",
   "metadata": {},
   "outputs": [],
   "source": [
    "# Real reviews from Google Reviews.\n",
    "pos_review = \"The best seafood joint in East Village San Diego!  Great lobster roll, great fish, great oysters, great bread, great cocktails, and such amazing service.  The atmosphere is top notch and the location is so much fun being located just a block away from Petco Park (San Diego Padres Stadium).\"\n",
    "neg_review = \"A thoroughly disappointing experience. When you book a Marriott you expect a certain standard. Albany falls way short. Room cleaning has to be booked 24 hours in advance but nobody thought to mention this at check in. The hotel is tired and needs a face-lift. The only bright light in a sea of mediocrity were the pancakes at breakfast. Sadly they weren't enough to save the experience. If you travel to Albany, then do yourself a big favour and book the Westin.\""
   ]
  },
  {
   "cell_type": "code",
   "execution_count": 40,
   "id": "1ad103b9",
   "metadata": {},
   "outputs": [
    {
     "name": "stdout",
     "output_type": "stream",
     "text": [
      "['Positive', 'Negative']\n"
     ]
    }
   ],
   "source": [
    "print(predict([pos_review, neg_review]))"
   ]
  },
  {
   "cell_type": "markdown",
   "id": "13879755",
   "metadata": {},
   "source": [
    "## Что будет, если использовать необученные веса\n",
    "\n",
    "Чтобы не переписывать код, запишу так"
   ]
  },
  {
   "cell_type": "code",
   "execution_count": 41,
   "id": "9d6ba76e",
   "metadata": {},
   "outputs": [
    {
     "name": "stdout",
     "output_type": "stream",
     "text": [
      "Device: cuda\n"
     ]
    },
    {
     "name": "stderr",
     "output_type": "stream",
     "text": [
      "Training: 100%|██████████| 167/167 [00:00<00:00, 188.11it/s]\n",
      "Validation: 100%|██████████| 30/30 [00:00<00:00, 483.60it/s]\n"
     ]
    },
    {
     "name": "stdout",
     "output_type": "stream",
     "text": [
      "Epoch 1/20\n",
      "Train Loss:      0.442, Train Accuracy:      0.796\n",
      "Validation Loss: 0.301, Validation Accuracy: 0.885\n",
      "\n"
     ]
    },
    {
     "name": "stderr",
     "output_type": "stream",
     "text": [
      "Training: 100%|██████████| 167/167 [00:00<00:00, 247.15it/s]\n",
      "Validation: 100%|██████████| 30/30 [00:00<00:00, 459.11it/s]\n"
     ]
    },
    {
     "name": "stdout",
     "output_type": "stream",
     "text": [
      "Epoch 2/20\n",
      "Train Loss:      0.253, Train Accuracy:      0.903\n",
      "Validation Loss: 0.251, Validation Accuracy: 0.904\n",
      "\n"
     ]
    },
    {
     "name": "stderr",
     "output_type": "stream",
     "text": [
      "Training: 100%|██████████| 167/167 [00:00<00:00, 190.41it/s]\n",
      "Validation: 100%|██████████| 30/30 [00:00<00:00, 488.39it/s]\n"
     ]
    },
    {
     "name": "stdout",
     "output_type": "stream",
     "text": [
      "Epoch 3/20\n",
      "Train Loss:      0.200, Train Accuracy:      0.923\n",
      "Validation Loss: 0.237, Validation Accuracy: 0.906\n",
      "\n"
     ]
    },
    {
     "name": "stderr",
     "output_type": "stream",
     "text": [
      "Training: 100%|██████████| 167/167 [00:00<00:00, 232.03it/s]\n",
      "Validation: 100%|██████████| 30/30 [00:00<00:00, 498.31it/s]\n"
     ]
    },
    {
     "name": "stdout",
     "output_type": "stream",
     "text": [
      "Epoch 4/20\n",
      "Train Loss:      0.174, Train Accuracy:      0.933\n",
      "Validation Loss: 0.241, Validation Accuracy: 0.908\n",
      "\n"
     ]
    },
    {
     "name": "stderr",
     "output_type": "stream",
     "text": [
      "Training: 100%|██████████| 167/167 [00:00<00:00, 250.75it/s]\n",
      "Validation: 100%|██████████| 30/30 [00:00<00:00, 490.62it/s]\n"
     ]
    },
    {
     "name": "stdout",
     "output_type": "stream",
     "text": [
      "Epoch 5/20\n",
      "Train Loss:      0.158, Train Accuracy:      0.939\n",
      "Validation Loss: 0.230, Validation Accuracy: 0.913\n",
      "\n"
     ]
    },
    {
     "name": "stderr",
     "output_type": "stream",
     "text": [
      "Training: 100%|██████████| 167/167 [00:00<00:00, 250.50it/s]\n",
      "Validation: 100%|██████████| 30/30 [00:00<00:00, 481.80it/s]\n"
     ]
    },
    {
     "name": "stdout",
     "output_type": "stream",
     "text": [
      "Epoch 6/20\n",
      "Train Loss:      0.146, Train Accuracy:      0.945\n",
      "Validation Loss: 0.228, Validation Accuracy: 0.913\n",
      "\n"
     ]
    },
    {
     "name": "stderr",
     "output_type": "stream",
     "text": [
      "Training: 100%|██████████| 167/167 [00:00<00:00, 194.44it/s]\n",
      "Validation: 100%|██████████| 30/30 [00:00<00:00, 486.97it/s]\n"
     ]
    },
    {
     "name": "stdout",
     "output_type": "stream",
     "text": [
      "Epoch 7/20\n",
      "Train Loss:      0.130, Train Accuracy:      0.952\n",
      "Validation Loss: 0.236, Validation Accuracy: 0.913\n",
      "\n"
     ]
    },
    {
     "name": "stderr",
     "output_type": "stream",
     "text": [
      "Training: 100%|██████████| 167/167 [00:00<00:00, 250.31it/s]\n",
      "Validation: 100%|██████████| 30/30 [00:00<00:00, 497.90it/s]\n"
     ]
    },
    {
     "name": "stdout",
     "output_type": "stream",
     "text": [
      "Epoch 8/20\n",
      "Train Loss:      0.119, Train Accuracy:      0.956\n",
      "Validation Loss: 0.251, Validation Accuracy: 0.912\n",
      "\n"
     ]
    },
    {
     "name": "stderr",
     "output_type": "stream",
     "text": [
      "Training: 100%|██████████| 167/167 [00:00<00:00, 195.07it/s]\n",
      "Validation: 100%|██████████| 30/30 [00:00<00:00, 461.88it/s]"
     ]
    },
    {
     "name": "stdout",
     "output_type": "stream",
     "text": [
      "Epoch 9/20\n",
      "Train Loss:      0.112, Train Accuracy:      0.959\n",
      "Validation Loss: 0.262, Validation Accuracy: 0.910\n",
      "\n",
      "Early stopping after 9 epoch\n",
      "Best Accuracy: 0.9133\n"
     ]
    },
    {
     "name": "stderr",
     "output_type": "stream",
     "text": [
      "\n"
     ]
    }
   ],
   "source": [
    "device = torch.device(\"cuda\" if torch.cuda.is_available() else \"cpu\")\n",
    "print(\"Device:\", device)\n",
    "epochs = 20\n",
    "patience = 3\n",
    "batch_size = 512\n",
    "\n",
    "train_dataset = ClassifierDataset(X_train_padded, y_train)\n",
    "val_dataset = ClassifierDataset(X_val_padded, y_val)\n",
    "\n",
    "train_dataloader = data.DataLoader(\n",
    "    train_dataset, batch_size=batch_size, shuffle=True\n",
    ")\n",
    "val_dataloader = data.DataLoader(\n",
    "    val_dataset, batch_size=batch_size, shuffle=False\n",
    ")\n",
    "\n",
    "model = SentimentClassifier(embedding_matrix)\n",
    "model.embedding = nn.Embedding(\n",
    "    num_embeddings=embedding_matrix.shape[0],\n",
    "    embedding_dim=embedding_matrix.shape[1],\n",
    "    padding_idx=0,\n",
    ")\n",
    "\n",
    "criterion = nn.BCEWithLogitsLoss()\n",
    "optimizer = optim.Adam(model.parameters(), lr=0.001)\n",
    "trainer = ClassifierTrainer(\n",
    "    model,\n",
    "    criterion,\n",
    "    optimizer,\n",
    "    train_dataloader,\n",
    "    val_dataloader,\n",
    "    epochs=epochs,\n",
    "    patience=patience,\n",
    "    device=device,\n",
    ")\n",
    "history = trainer.train()"
   ]
  },
  {
   "cell_type": "code",
   "execution_count": 42,
   "id": "3d03feff",
   "metadata": {},
   "outputs": [
    {
     "data": {
      "image/png": "[encoded data removed]",
      "text/plain": [
       "<Figure size 1500x1500 with 2 Axes>"
      ]
     },
     "metadata": {},
     "output_type": "display_data"
    }
   ],
   "source": [
    "plot_history(history)"
   ]
  },
  {
   "cell_type": "code",
   "execution_count": 43,
   "id": "d291eb78",
   "metadata": {},
   "outputs": [
    {
     "name": "stderr",
     "output_type": "stream",
     "text": [
      "Validation: 100%|██████████| 75/75 [00:00<00:00, 397.90it/s]\n"
     ]
    }
   ],
   "source": [
    "loss, metrics = trainer.test(test_dataloader)"
   ]
  },
  {
   "cell_type": "code",
   "execution_count": 44,
   "id": "47399936",
   "metadata": {},
   "outputs": [
    {
     "name": "stdout",
     "output_type": "stream",
     "text": [
      "Test Loss:     0.244\n",
      "Test Accuracy: 0.916\n"
     ]
    }
   ],
   "source": [
    "print(f\"Test Loss:     {loss:.3f}\")\n",
    "print(f\"Test Accuracy: {metrics['accuracy']:.3f}\")"
   ]
  },
  {
   "cell_type": "markdown",
   "id": "746627cb",
   "metadata": {},
   "source": [
    "Качество сопоставима с моделью, в котором мы использовали предобученные веса. Вероятно, так произошло из-за характера данных и их объема."
   ]
  }
 ],
 "metadata": {
  "kernelspec": {
   "display_name": "torch",
   "language": "python",
   "name": "python3"
  },
  "language_info": {
   "codemirror_mode": {
    "name": "ipython",
    "version": 3
   },
   "file_extension": ".py",
   "mimetype": "text/x-python",
   "name": "python",
   "nbconvert_exporter": "python",
   "pygments_lexer": "ipython3",
   "version": "3.12.9"
  }
 },
 "nbformat": 4,
 "nbformat_minor": 5
}
